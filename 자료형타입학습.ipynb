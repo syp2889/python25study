{
  "nbformat": 4,
  "nbformat_minor": 0,
  "metadata": {
    "colab": {
      "provenance": [],
      "authorship_tag": "ABX9TyO/SW9+KvJYhSkYgc1yqVB1",
      "include_colab_link": true
    },
    "kernelspec": {
      "name": "python3",
      "display_name": "Python 3"
    },
    "language_info": {
      "name": "python"
    }
  },
  "cells": [
    {
      "cell_type": "markdown",
      "metadata": {
        "id": "view-in-github",
        "colab_type": "text"
      },
      "source": [
        "<a href=\"https://colab.research.google.com/github/syp2889/python25study/blob/main/%EC%9E%90%EB%A3%8C%ED%98%95%ED%83%80%EC%9E%85%ED%95%99%EC%8A%B5.ipynb\" target=\"_parent\"><img src=\"https://colab.research.google.com/assets/colab-badge.svg\" alt=\"Open In Colab\"/></a>"
      ]
    },
    {
      "cell_type": "code",
      "execution_count": 1,
      "metadata": {
        "colab": {
          "base_uri": "https://localhost:8080/"
        },
        "id": "Q8t3_0owyOhe",
        "outputId": "e9764f21-96f9-4a2a-c795-5f1297ec1994"
      },
      "outputs": [
        {
          "output_type": "stream",
          "name": "stdout",
          "text": [
            "123\n"
          ]
        }
      ],
      "source": [
        "# 숫자형\n",
        "# Number타입: 정수, 실수, 8진수, 16진수, 2진수 등을 표현한다.\n",
        "\n",
        "a=123\n",
        "print (a)\n"
      ]
    },
    {
      "cell_type": "code",
      "source": [
        ">>> \"Error is %d%%.\" % 98\n",
        "\"%-10sjane.\" %\"hi\"\n",
        "\"{0:^10}\".format(\"hi\")\n",
        "\"{0:=^10}\".format(\"hi\")\n"
      ],
      "metadata": {
        "colab": {
          "base_uri": "https://localhost:8080/",
          "height": 35
        },
        "id": "I3FWiEy14pEQ",
        "outputId": "a1b8a493-14ff-4851-a016-a69c49578f16"
      },
      "execution_count": 11,
      "outputs": [
        {
          "output_type": "execute_result",
          "data": {
            "text/plain": [
              "'====hi===='"
            ],
            "application/vnd.google.colaboratory.intrinsic+json": {
              "type": "string"
            }
          },
          "metadata": {},
          "execution_count": 11
        }
      ]
    },
    {
      "cell_type": "code",
      "source": [
        "y=4.123234655463321\n",
        "\"{0:0.4f}\".format(y)\n"
      ],
      "metadata": {
        "colab": {
          "base_uri": "https://localhost:8080/",
          "height": 35
        },
        "id": "QlqEk3kAT4Ij",
        "outputId": "595ed7d3-06b2-4bd3-83b2-f0979647e36e"
      },
      "execution_count": 16,
      "outputs": [
        {
          "output_type": "execute_result",
          "data": {
            "text/plain": [
              "'4.1232'"
            ],
            "application/vnd.google.colaboratory.intrinsic+json": {
              "type": "string"
            }
          },
          "metadata": {},
          "execution_count": 16
        }
      ]
    }
  ]
}