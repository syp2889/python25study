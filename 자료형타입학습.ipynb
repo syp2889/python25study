{
  "nbformat": 4,
  "nbformat_minor": 0,
  "metadata": {
    "colab": {
      "provenance": [],
      "authorship_tag": "ABX9TyM1e7YjH6PphVSABJ5+IX9n",
      "include_colab_link": true
    },
    "kernelspec": {
      "name": "python3",
      "display_name": "Python 3"
    },
    "language_info": {
      "name": "python"
    }
  },
  "cells": [
    {
      "cell_type": "markdown",
      "metadata": {
        "id": "view-in-github",
        "colab_type": "text"
      },
      "source": [
        "<a href=\"https://colab.research.google.com/github/syp2889/python25study/blob/main/%EC%9E%90%EB%A3%8C%ED%98%95%ED%83%80%EC%9E%85%ED%95%99%EC%8A%B5.ipynb\" target=\"_parent\"><img src=\"https://colab.research.google.com/assets/colab-badge.svg\" alt=\"Open In Colab\"/></a>"
      ]
    },
    {
      "cell_type": "code",
      "execution_count": 1,
      "metadata": {
        "colab": {
          "base_uri": "https://localhost:8080/"
        },
        "id": "Q8t3_0owyOhe",
        "outputId": "e9764f21-96f9-4a2a-c795-5f1297ec1994"
      },
      "outputs": [
        {
          "output_type": "stream",
          "name": "stdout",
          "text": [
            "123\n"
          ]
        }
      ],
      "source": [
        "# 숫자형\n",
        "# Number타입: 정수, 실수, 8진수, 16진수, 2진수 등을 표현한다.\n",
        "\n",
        "a=123\n",
        "print (a)\n"
      ]
    },
    {
      "cell_type": "code",
      "source": [
        ">>> \"Error is %d%%.\" % 98\n",
        "\"%-10sjane.\" %\"hi\"\n",
        "\"{0:^10}\".format(\"hi\")\n",
        "\"{0:=^10}\".format(\"hi\")\n"
      ],
      "metadata": {
        "colab": {
          "base_uri": "https://localhost:8080/",
          "height": 35
        },
        "id": "I3FWiEy14pEQ",
        "outputId": "a1b8a493-14ff-4851-a016-a69c49578f16"
      },
      "execution_count": 11,
      "outputs": [
        {
          "output_type": "execute_result",
          "data": {
            "text/plain": [
              "'====hi===='"
            ],
            "application/vnd.google.colaboratory.intrinsic+json": {
              "type": "string"
            }
          },
          "metadata": {},
          "execution_count": 11
        }
      ]
    },
    {
      "cell_type": "code",
      "source": [
        "y=45414.123234655463321\n",
        " # 소수점 4자리까지 표현하고 총 자리수를 12으로 맞춤\n",
        "\"{0:12.4f}\".format(y)\n"
      ],
      "metadata": {
        "colab": {
          "base_uri": "https://localhost:8080/",
          "height": 35
        },
        "id": "QlqEk3kAT4Ij",
        "outputId": "3a3c9b91-4516-4e13-a46f-34b2c160b30a"
      },
      "execution_count": 23,
      "outputs": [
        {
          "output_type": "execute_result",
          "data": {
            "text/plain": [
              "'  45414.1232'"
            ],
            "application/vnd.google.colaboratory.intrinsic+json": {
              "type": "string"
            }
          },
          "metadata": {},
          "execution_count": 23
        }
      ]
    },
    {
      "cell_type": "code",
      "source": [
        "\"{{ zzzzz }}\".format()\n",
        "#format함수랑 {}괄호 둘다 쓰고 싶을땐 이중으로 쓰면됨"
      ],
      "metadata": {
        "colab": {
          "base_uri": "https://localhost:8080/",
          "height": 35
        },
        "id": "n-JE4ZmHr5hv",
        "outputId": "27532354-2e5b-400c-8ac3-16a9d830fc8a"
      },
      "execution_count": 24,
      "outputs": [
        {
          "output_type": "execute_result",
          "data": {
            "text/plain": [
              "'{ zzzzz }'"
            ],
            "application/vnd.google.colaboratory.intrinsic+json": {
              "type": "string"
            }
          },
          "metadata": {},
          "execution_count": 24
        }
      ]
    },
    {
      "cell_type": "code",
      "source": [
        "d = {'name':'홍길동', 'age':30}\n",
        "f'나의 이름은 {d[\"name\"]}입니다. 나이는 {d[\"age\"]}입니다. 그러면 내년에는 {d[\"age\"]+1}살이 되지.'"
      ],
      "metadata": {
        "colab": {
          "base_uri": "https://localhost:8080/",
          "height": 35
        },
        "id": "rJZkLBCevJgo",
        "outputId": "62ef3fe4-aa02-4537-9a45-a52008760c40"
      },
      "execution_count": 30,
      "outputs": [
        {
          "output_type": "execute_result",
          "data": {
            "text/plain": [
              "'나의 이름은 홍길동입니다. 나이는 30입니다. 그러면 내년에는 31살이 되지.'"
            ],
            "application/vnd.google.colaboratory.intrinsic+json": {
              "type": "string"
            }
          },
          "metadata": {},
          "execution_count": 30
        }
      ]
    },
    {
      "cell_type": "code",
      "source": [
        "f\"난 {1500000:,}원이 필요해\"#f 문자열을 활용하면 숫자에 자동으로 콤마(,)를 삽입하여 가독성을 높일 수 있다.\n"
      ],
      "metadata": {
        "colab": {
          "base_uri": "https://localhost:8080/",
          "height": 35
        },
        "id": "m-L6eJ390uEy",
        "outputId": "ab783940-b87c-484a-d643-033efd5f0b2e"
      },
      "execution_count": 31,
      "outputs": [
        {
          "output_type": "execute_result",
          "data": {
            "text/plain": [
              "'난 1,500,000원이 필요해'"
            ],
            "application/vnd.google.colaboratory.intrinsic+json": {
              "type": "string"
            }
          },
          "metadata": {},
          "execution_count": 31
        }
      ]
    },
    {
      "cell_type": "code",
      "source": [
        "a = \"Python is the best choice\"\n",
        "a.count('e')"
      ],
      "metadata": {
        "colab": {
          "base_uri": "https://localhost:8080/"
        },
        "id": "h30rVlxR00Eq",
        "outputId": "bce49b52-80b1-4144-a6d6-bffef85f9b34"
      },
      "execution_count": 32,
      "outputs": [
        {
          "output_type": "execute_result",
          "data": {
            "text/plain": [
              "3"
            ]
          },
          "metadata": {},
          "execution_count": 32
        }
      ]
    },
    {
      "cell_type": "code",
      "source": [
        "a = \"Python is the best choice\"\n",
        "a.find('b')"
      ],
      "metadata": {
        "colab": {
          "base_uri": "https://localhost:8080/"
        },
        "id": "CuTM_eUQ1QcJ",
        "outputId": "ae262622-4833-4f03-adb2-8b07f454aa31"
      },
      "execution_count": 33,
      "outputs": [
        {
          "output_type": "execute_result",
          "data": {
            "text/plain": [
              "14"
            ]
          },
          "metadata": {},
          "execution_count": 33
        }
      ]
    },
    {
      "cell_type": "code",
      "source": [
        "a = \"Python is the best choice\"\n",
        "a.find('k')"
      ],
      "metadata": {
        "colab": {
          "base_uri": "https://localhost:8080/"
        },
        "id": "Zae7F02H1Ulh",
        "outputId": "8b1d5c84-185f-4159-d892-35d1f352f5fd"
      },
      "execution_count": 34,
      "outputs": [
        {
          "output_type": "execute_result",
          "data": {
            "text/plain": [
              "-1"
            ]
          },
          "metadata": {},
          "execution_count": 34
        }
      ]
    },
    {
      "cell_type": "code",
      "source": [
        "a = \"Python is the best choice\"\n",
        "a.index('t')"
      ],
      "metadata": {
        "colab": {
          "base_uri": "https://localhost:8080/"
        },
        "id": "KmQHSpNV1_Qb",
        "outputId": "97c44fc4-7898-4b0a-ab6a-6a463b58a9b6"
      },
      "execution_count": 35,
      "outputs": [
        {
          "output_type": "execute_result",
          "data": {
            "text/plain": [
              "2"
            ]
          },
          "metadata": {},
          "execution_count": 35
        }
      ]
    },
    {
      "cell_type": "code",
      "source": [
        "a = \"Python is the best choice\"\n",
        "a.index('k')#find와 달리 오류가 생긴다."
      ],
      "metadata": {
        "colab": {
          "base_uri": "https://localhost:8080/",
          "height": 166
        },
        "id": "zw3PCUHi1_Pg",
        "outputId": "78ec3206-2c41-4911-b087-49ff8328cfef"
      },
      "execution_count": 36,
      "outputs": [
        {
          "output_type": "error",
          "ename": "ValueError",
          "evalue": "substring not found",
          "traceback": [
            "\u001b[0;31m---------------------------------------------------------------------------\u001b[0m",
            "\u001b[0;31mValueError\u001b[0m                                Traceback (most recent call last)",
            "\u001b[0;32m/tmp/ipython-input-2480334430.py\u001b[0m in \u001b[0;36m<cell line: 0>\u001b[0;34m()\u001b[0m\n\u001b[1;32m      1\u001b[0m \u001b[0ma\u001b[0m \u001b[0;34m=\u001b[0m \u001b[0;34m\"Python is the best choice\"\u001b[0m\u001b[0;34m\u001b[0m\u001b[0;34m\u001b[0m\u001b[0m\n\u001b[0;32m----> 2\u001b[0;31m \u001b[0ma\u001b[0m\u001b[0;34m.\u001b[0m\u001b[0mindex\u001b[0m\u001b[0;34m(\u001b[0m\u001b[0;34m'k'\u001b[0m\u001b[0;34m)\u001b[0m\u001b[0;34m\u001b[0m\u001b[0;34m\u001b[0m\u001b[0m\n\u001b[0m",
            "\u001b[0;31mValueError\u001b[0m: substring not found"
          ]
        }
      ]
    },
    {
      "cell_type": "code",
      "source": [
        "\",\".join('abcd')"
      ],
      "metadata": {
        "colab": {
          "base_uri": "https://localhost:8080/",
          "height": 35
        },
        "id": "0yKYb6_02cHJ",
        "outputId": "c4821bac-1cf8-4452-fe94-b002a476db16"
      },
      "execution_count": 37,
      "outputs": [
        {
          "output_type": "execute_result",
          "data": {
            "text/plain": [
              "'a,b,c,d'"
            ],
            "application/vnd.google.colaboratory.intrinsic+json": {
              "type": "string"
            }
          },
          "metadata": {},
          "execution_count": 37
        }
      ]
    },
    {
      "cell_type": "code",
      "source": [
        "\",\".join(['a', 'b', 'c', 'd'])"
      ],
      "metadata": {
        "colab": {
          "base_uri": "https://localhost:8080/",
          "height": 35
        },
        "id": "1Zfwm8OW1_Op",
        "outputId": "4666b72e-d70c-412c-eb8d-e579372a5020"
      },
      "execution_count": 38,
      "outputs": [
        {
          "output_type": "execute_result",
          "data": {
            "text/plain": [
              "'a,b,c,d'"
            ],
            "application/vnd.google.colaboratory.intrinsic+json": {
              "type": "string"
            }
          },
          "metadata": {},
          "execution_count": 38
        }
      ]
    },
    {
      "cell_type": "code",
      "source": [
        "a = \"hi\"\n",
        ">>> a.upper()"
      ],
      "metadata": {
        "colab": {
          "base_uri": "https://localhost:8080/",
          "height": 35
        },
        "id": "V8z6pWU03oBZ",
        "outputId": "b295c9eb-dcfe-4ee3-8a6c-0c6909eeb8e2"
      },
      "execution_count": 39,
      "outputs": [
        {
          "output_type": "execute_result",
          "data": {
            "text/plain": [
              "'HI'"
            ],
            "application/vnd.google.colaboratory.intrinsic+json": {
              "type": "string"
            }
          },
          "metadata": {},
          "execution_count": 39
        }
      ]
    },
    {
      "cell_type": "code",
      "source": [
        ">>> a = \"HI\"\n",
        ">>> a.lower()"
      ],
      "metadata": {
        "colab": {
          "base_uri": "https://localhost:8080/",
          "height": 35
        },
        "id": "VTPx80OX3urx",
        "outputId": "3752ef4f-40f2-4dab-e004-cf69f57fa673"
      },
      "execution_count": 40,
      "outputs": [
        {
          "output_type": "execute_result",
          "data": {
            "text/plain": [
              "'hi'"
            ],
            "application/vnd.google.colaboratory.intrinsic+json": {
              "type": "string"
            }
          },
          "metadata": {},
          "execution_count": 40
        }
      ]
    },
    {
      "cell_type": "code",
      "source": [
        "a = \" hi \"\n",
        ">>> a.lstrip()"
      ],
      "metadata": {
        "colab": {
          "base_uri": "https://localhost:8080/",
          "height": 35
        },
        "id": "jV2T5K3I3xFw",
        "outputId": "02a70111-c5ae-4c16-b9e6-38e30d07792d"
      },
      "execution_count": 41,
      "outputs": [
        {
          "output_type": "execute_result",
          "data": {
            "text/plain": [
              "'hi '"
            ],
            "application/vnd.google.colaboratory.intrinsic+json": {
              "type": "string"
            }
          },
          "metadata": {},
          "execution_count": 41
        }
      ]
    },
    {
      "cell_type": "code",
      "source": [
        " a= \" hi \"\n",
        ">>> a.rstrip()\n",
        "' hi'"
      ],
      "metadata": {
        "colab": {
          "base_uri": "https://localhost:8080/",
          "height": 35
        },
        "id": "HnqOWPhM3zuI",
        "outputId": "b80426f3-f010-47c7-893f-93aa0bb6cef0"
      },
      "execution_count": 42,
      "outputs": [
        {
          "output_type": "execute_result",
          "data": {
            "text/plain": [
              "' hi'"
            ],
            "application/vnd.google.colaboratory.intrinsic+json": {
              "type": "string"
            }
          },
          "metadata": {},
          "execution_count": 42
        }
      ]
    },
    {
      "cell_type": "code",
      "source": [
        ">>> a = \" hi \"\n",
        ">>> a.strip()\n",
        "'hi'"
      ],
      "metadata": {
        "colab": {
          "base_uri": "https://localhost:8080/",
          "height": 35
        },
        "id": "_jI7pn6g31go",
        "outputId": "b8541e9d-bee8-46a4-c91c-46404596d55e"
      },
      "execution_count": 43,
      "outputs": [
        {
          "output_type": "execute_result",
          "data": {
            "text/plain": [
              "'hi'"
            ],
            "application/vnd.google.colaboratory.intrinsic+json": {
              "type": "string"
            }
          },
          "metadata": {},
          "execution_count": 43
        }
      ]
    },
    {
      "cell_type": "code",
      "source": [
        ">>> a = \"Life is too short\"\n",
        ">>> a.replace(\"Life\", \"Your leg\")"
      ],
      "metadata": {
        "colab": {
          "base_uri": "https://localhost:8080/",
          "height": 35
        },
        "id": "Wh9DTOD-5rwH",
        "outputId": "b18ca810-8d62-4c9a-a538-331255691e8c"
      },
      "execution_count": 44,
      "outputs": [
        {
          "output_type": "execute_result",
          "data": {
            "text/plain": [
              "'Your leg is too short'"
            ],
            "application/vnd.google.colaboratory.intrinsic+json": {
              "type": "string"
            }
          },
          "metadata": {},
          "execution_count": 44
        }
      ]
    },
    {
      "cell_type": "code",
      "source": [
        ">>> a = \"Life is too short\"\n",
        ">>> a.split()#괄호 안에 아무 값도 넣어 주지 않으면 공백([Space], [Tab], [Enter])을 기준으로 문자열을 나누어 준다. 이렇게 나눈 값은 리스트에 하나씩 들어간다."
      ],
      "metadata": {
        "colab": {
          "base_uri": "https://localhost:8080/"
        },
        "id": "sGB_qV147oyu",
        "outputId": "c3440dcc-0a74-45e8-b3da-a899cee1ea3d"
      },
      "execution_count": 45,
      "outputs": [
        {
          "output_type": "execute_result",
          "data": {
            "text/plain": [
              "['Life', 'is', 'too', 'short']"
            ]
          },
          "metadata": {},
          "execution_count": 45
        }
      ]
    },
    {
      "cell_type": "code",
      "source": [
        ">>> b = \"a:b:c:d\"\n",
        ">>> b.split(':')#:기준으로 쪼개줌. 이렇게 나눈 값은 리스트에 하나씩 들어간다."
      ],
      "metadata": {
        "colab": {
          "base_uri": "https://localhost:8080/"
        },
        "id": "yTFV6G7b7r9X",
        "outputId": "1a988a09-05e4-48aa-9881-dccd77d8e3d8"
      },
      "execution_count": 46,
      "outputs": [
        {
          "output_type": "execute_result",
          "data": {
            "text/plain": [
              "['a', 'b', 'c', 'd']"
            ]
          },
          "metadata": {},
          "execution_count": 46
        }
      ]
    },
    {
      "cell_type": "code",
      "source": [
        ">>> s = \"Python\"\n",
        ">>> s.isalpha()#isalpha 함수는 문자열이 알파벳 문자로만 이루어져 있는지 검사한다."
      ],
      "metadata": {
        "colab": {
          "base_uri": "https://localhost:8080/"
        },
        "id": "66qTMuKY7ygG",
        "outputId": "c5a55af0-0830-4983-ba81-32efe7fbcc8c"
      },
      "execution_count": 47,
      "outputs": [
        {
          "output_type": "execute_result",
          "data": {
            "text/plain": [
              "True"
            ]
          },
          "metadata": {},
          "execution_count": 47
        }
      ]
    },
    {
      "cell_type": "code",
      "source": [
        ">>> s = \"Python3\"\n",
        ">>> s.isalpha()"
      ],
      "metadata": {
        "colab": {
          "base_uri": "https://localhost:8080/"
        },
        "id": "ajIWAbRM71v2",
        "outputId": "4a173513-f0a6-4ecf-88de-c4ce0a946355"
      },
      "execution_count": 48,
      "outputs": [
        {
          "output_type": "execute_result",
          "data": {
            "text/plain": [
              "False"
            ]
          },
          "metadata": {},
          "execution_count": 48
        }
      ]
    },
    {
      "cell_type": "code",
      "source": [
        ">>> s = \"Hello World\"\n",
        ">>> s.isalpha()#공백이나 숫자, 특수 문자가 포함되어 있으면 False를 반환한다."
      ],
      "metadata": {
        "colab": {
          "base_uri": "https://localhost:8080/"
        },
        "id": "GAPjjdK28Ecu",
        "outputId": "f897097b-0248-4a03-c470-4bd48d3c3f97"
      },
      "execution_count": 49,
      "outputs": [
        {
          "output_type": "execute_result",
          "data": {
            "text/plain": [
              "False"
            ]
          },
          "metadata": {},
          "execution_count": 49
        }
      ]
    },
    {
      "cell_type": "code",
      "source": [
        ">>> s = \"12345\"\n",
        ">>> s.isdigit()#isdigit 함수는 문자열이 숫자(0~9)로만 이루어져 있는지를 검사한다."
      ],
      "metadata": {
        "colab": {
          "base_uri": "https://localhost:8080/"
        },
        "id": "xwMGOhDi8JO-",
        "outputId": "3b1c50fb-75bc-4b8a-cd84-01bfa9d945e3"
      },
      "execution_count": 50,
      "outputs": [
        {
          "output_type": "execute_result",
          "data": {
            "text/plain": [
              "True"
            ]
          },
          "metadata": {},
          "execution_count": 50
        }
      ]
    },
    {
      "cell_type": "code",
      "source": [
        ">>> s = \"1234a\"\n",
        ">>> s.isdigit()"
      ],
      "metadata": {
        "colab": {
          "base_uri": "https://localhost:8080/"
        },
        "id": "9hDGtRQ48R8e",
        "outputId": "551ece45-3013-4f35-926b-ffe0c19c5d56"
      },
      "execution_count": 51,
      "outputs": [
        {
          "output_type": "execute_result",
          "data": {
            "text/plain": [
              "False"
            ]
          },
          "metadata": {},
          "execution_count": 51
        }
      ]
    },
    {
      "cell_type": "code",
      "source": [
        ">>> s = \"12 34\"\n",
        ">>> s.isdigit()# 공백이 있으므로 False를 반환한다."
      ],
      "metadata": {
        "colab": {
          "base_uri": "https://localhost:8080/"
        },
        "id": "o3INeIny8TmG",
        "outputId": "60e6c7d9-98a0-4a89-efe6-0c6350d31ce3"
      },
      "execution_count": 52,
      "outputs": [
        {
          "output_type": "execute_result",
          "data": {
            "text/plain": [
              "False"
            ]
          },
          "metadata": {},
          "execution_count": 52
        }
      ]
    },
    {
      "cell_type": "code",
      "source": [
        ">>> s = \"Life is too short\"\n",
        ">>> s.startswith(\"Life\")#startswith 함수는 문자열이 지정한 문자(열)로 시작하는지를 검사한다."
      ],
      "metadata": {
        "colab": {
          "base_uri": "https://localhost:8080/"
        },
        "id": "VOub-Np78ZD2",
        "outputId": "cfc84dbb-e79f-46cd-f033-ca25c657f5d3"
      },
      "execution_count": 53,
      "outputs": [
        {
          "output_type": "execute_result",
          "data": {
            "text/plain": [
              "True"
            ]
          },
          "metadata": {},
          "execution_count": 53
        }
      ]
    },
    {
      "cell_type": "code",
      "source": [
        ">>> s = \"Life is too short\"\n",
        ">>> s.startswith(\"too\")"
      ],
      "metadata": {
        "colab": {
          "base_uri": "https://localhost:8080/"
        },
        "id": "7BhAYBtI8b9W",
        "outputId": "108aeb77-f3e2-45b8-d014-72e24cb7acf7"
      },
      "execution_count": 54,
      "outputs": [
        {
          "output_type": "execute_result",
          "data": {
            "text/plain": [
              "False"
            ]
          },
          "metadata": {},
          "execution_count": 54
        }
      ]
    },
    {
      "cell_type": "code",
      "source": [
        ">>> s = \"Life is too short\"\n",
        ">>> s.endswith(\"short\")#endswith 함수는 문자열이 지정한 문자(열)로 끝나는지를 검사한다."
      ],
      "metadata": {
        "colab": {
          "base_uri": "https://localhost:8080/"
        },
        "id": "v_nR4B8s8hpl",
        "outputId": "c79bf733-02db-453d-bbde-597b8e5e6a68"
      },
      "execution_count": 55,
      "outputs": [
        {
          "output_type": "execute_result",
          "data": {
            "text/plain": [
              "True"
            ]
          },
          "metadata": {},
          "execution_count": 55
        }
      ]
    },
    {
      "cell_type": "code",
      "source": [
        "\"{0:=^100}\".format(\"여기서부터 2-3 리스트 자료형\")"
      ],
      "metadata": {
        "colab": {
          "base_uri": "https://localhost:8080/",
          "height": 35
        },
        "id": "YWqLw7t48mFG",
        "outputId": "f0011564-6c29-4299-92d4-55bfbb447795"
      },
      "execution_count": 58,
      "outputs": [
        {
          "output_type": "execute_result",
          "data": {
            "text/plain": [
              "'=========================================여기서부터 2-3 리스트 자료형=========================================='"
            ],
            "application/vnd.google.colaboratory.intrinsic+json": {
              "type": "string"
            }
          },
          "metadata": {},
          "execution_count": 58
        }
      ]
    },
    {
      "cell_type": "code",
      "source": [
        ">>> a = []#비어 있는 리스트는 a = list()로 생성할 수 있다.\n",
        ">>> b = [1, 2, 3]\n",
        ">>> c = ['Life', 'is', 'too', 'short']\n",
        ">>> d = [1, 2, 'Life', 'is']#d처럼 숫자와 문자열을 함께 요솟값으로 가질 수도 있고\n",
        ">>> e = [1, 2, ['Life', 'is']]# e처럼 리스트 자체를 요솟값으로 가질 수도 있다. 즉, 리스트 안에는 어떠한 자료형도 포함할 수 있다."
      ],
      "metadata": {
        "id": "CHuktz2w9o9t"
      },
      "execution_count": 59,
      "outputs": []
    },
    {
      "cell_type": "code",
      "source": [
        ">>> a = [1, 2, 3]\n",
        ">>> a[0]"
      ],
      "metadata": {
        "colab": {
          "base_uri": "https://localhost:8080/"
        },
        "id": "gJ0LkJAm_eCl",
        "outputId": "7c8bbb81-a904-4de5-dec1-b659d981af14"
      },
      "execution_count": 60,
      "outputs": [
        {
          "output_type": "execute_result",
          "data": {
            "text/plain": [
              "1"
            ]
          },
          "metadata": {},
          "execution_count": 60
        }
      ]
    },
    {
      "cell_type": "code",
      "source": [
        ">>> a[0] + a[2]"
      ],
      "metadata": {
        "colab": {
          "base_uri": "https://localhost:8080/"
        },
        "id": "1EvqUEFlB363",
        "outputId": "eae21203-5893-4a06-8613-b92cd9e1aad9"
      },
      "execution_count": 61,
      "outputs": [
        {
          "output_type": "execute_result",
          "data": {
            "text/plain": [
              "4"
            ]
          },
          "metadata": {},
          "execution_count": 61
        }
      ]
    },
    {
      "cell_type": "code",
      "source": [
        ">>> a[-1]"
      ],
      "metadata": {
        "colab": {
          "base_uri": "https://localhost:8080/"
        },
        "id": "o5uFsWfJB6RL",
        "outputId": "7d43f1ba-3fd8-4bba-9141-9401d3cf93e0"
      },
      "execution_count": 62,
      "outputs": [
        {
          "output_type": "execute_result",
          "data": {
            "text/plain": [
              "3"
            ]
          },
          "metadata": {},
          "execution_count": 62
        }
      ]
    },
    {
      "cell_type": "code",
      "source": [
        ">>> a = [1, 2, 3, ['a', 'b', 'c']]\n",
        ">>> a[0]"
      ],
      "metadata": {
        "colab": {
          "base_uri": "https://localhost:8080/"
        },
        "id": "VjghjKQCB8Pb",
        "outputId": "f2ebd82c-a5fd-47ec-ff52-7493cb406259"
      },
      "execution_count": 63,
      "outputs": [
        {
          "output_type": "execute_result",
          "data": {
            "text/plain": [
              "1"
            ]
          },
          "metadata": {},
          "execution_count": 63
        }
      ]
    },
    {
      "cell_type": "code",
      "source": [
        ">>> a[-1]#a[-1]은 마지막 요솟값 ['a', 'b', 'c']를 나타낸다."
      ],
      "metadata": {
        "colab": {
          "base_uri": "https://localhost:8080/"
        },
        "id": "xn8Ux7c7B-rj",
        "outputId": "4401b1be-81d6-4dcd-c419-3f68c6724308"
      },
      "execution_count": 64,
      "outputs": [
        {
          "output_type": "execute_result",
          "data": {
            "text/plain": [
              "['a', 'b', 'c']"
            ]
          },
          "metadata": {},
          "execution_count": 64
        }
      ]
    },
    {
      "cell_type": "code",
      "source": [
        ">>> a[3]#a[3]은 리스트 a의 네 번째 요소를 나타내기 때문에 마지막 요소를 나타내는 a[-1]과 동일한 결괏값"
      ],
      "metadata": {
        "colab": {
          "base_uri": "https://localhost:8080/"
        },
        "id": "VAJB1rUcCFsF",
        "outputId": "a18df38f-d3bb-4423-8fb4-aba1879edc67"
      },
      "execution_count": 65,
      "outputs": [
        {
          "output_type": "execute_result",
          "data": {
            "text/plain": [
              "['a', 'b', 'c']"
            ]
          },
          "metadata": {},
          "execution_count": 65
        }
      ]
    },
    {
      "cell_type": "code",
      "source": [
        ">>> a[-1][0]#뒤에 2중으로 인덱스 붙여서 리스트안의 리스트값을 끄집어내기"
      ],
      "metadata": {
        "colab": {
          "base_uri": "https://localhost:8080/",
          "height": 35
        },
        "id": "eblYv4v2CNP7",
        "outputId": "2f5a2c8c-c00e-4820-ac31-c2fc3147c916"
      },
      "execution_count": 66,
      "outputs": [
        {
          "output_type": "execute_result",
          "data": {
            "text/plain": [
              "'a'"
            ],
            "application/vnd.google.colaboratory.intrinsic+json": {
              "type": "string"
            }
          },
          "metadata": {},
          "execution_count": 66
        }
      ]
    },
    {
      "cell_type": "code",
      "source": [
        ">>> a[-1][1]"
      ],
      "metadata": {
        "colab": {
          "base_uri": "https://localhost:8080/",
          "height": 35
        },
        "id": "WmIZHfUqCXYy",
        "outputId": "9a34237e-cb74-4196-93b3-37de521afa6d"
      },
      "execution_count": 67,
      "outputs": [
        {
          "output_type": "execute_result",
          "data": {
            "text/plain": [
              "'b'"
            ],
            "application/vnd.google.colaboratory.intrinsic+json": {
              "type": "string"
            }
          },
          "metadata": {},
          "execution_count": 67
        }
      ]
    },
    {
      "cell_type": "code",
      "source": [
        ">>> b = [1, 2, ['a', 'b', ['Life', 'is']]]#3중리스트\n",
        ">>> b[2][2][0]"
      ],
      "metadata": {
        "colab": {
          "base_uri": "https://localhost:8080/",
          "height": 35
        },
        "id": "chZ1CEsZCbHL",
        "outputId": "30da46cc-b59a-4931-b833-0d4fdb82764f"
      },
      "execution_count": 74,
      "outputs": [
        {
          "output_type": "execute_result",
          "data": {
            "text/plain": [
              "'Life'"
            ],
            "application/vnd.google.colaboratory.intrinsic+json": {
              "type": "string"
            }
          },
          "metadata": {},
          "execution_count": 74
        }
      ]
    },
    {
      "cell_type": "code",
      "source": [
        ">>> b[2][2][1]#자주 사용하지는 않는다."
      ],
      "metadata": {
        "colab": {
          "base_uri": "https://localhost:8080/",
          "height": 35
        },
        "id": "FpjoVOWSCbd8",
        "outputId": "7c8347f6-b2bc-4f92-d6f8-e293908b728a"
      },
      "execution_count": 76,
      "outputs": [
        {
          "output_type": "execute_result",
          "data": {
            "text/plain": [
              "'is'"
            ],
            "application/vnd.google.colaboratory.intrinsic+json": {
              "type": "string"
            }
          },
          "metadata": {},
          "execution_count": 76
        }
      ]
    },
    {
      "cell_type": "code",
      "source": [
        ">>> a = [1, 2, 3, 4, 5]#리스트의 슬라이싱\n",
        ">>> a[0:2]"
      ],
      "metadata": {
        "colab": {
          "base_uri": "https://localhost:8080/"
        },
        "id": "8PzCUxphDDEq",
        "outputId": "62dc24d5-08a6-49c6-d7b3-3a6757b03240"
      },
      "execution_count": 77,
      "outputs": [
        {
          "output_type": "execute_result",
          "data": {
            "text/plain": [
              "[1, 2]"
            ]
          },
          "metadata": {},
          "execution_count": 77
        }
      ]
    },
    {
      "cell_type": "code",
      "source": [
        ">>> a = \"12345\"\n",
        ">>> a[0:2]"
      ],
      "metadata": {
        "colab": {
          "base_uri": "https://localhost:8080/",
          "height": 35
        },
        "id": "CKgNwnjjEhGJ",
        "outputId": "e13b6bd3-0c56-451e-e501-8078bb44ff5b"
      },
      "execution_count": 78,
      "outputs": [
        {
          "output_type": "execute_result",
          "data": {
            "text/plain": [
              "'12'"
            ],
            "application/vnd.google.colaboratory.intrinsic+json": {
              "type": "string"
            }
          },
          "metadata": {},
          "execution_count": 78
        }
      ]
    },
    {
      "cell_type": "code",
      "source": [
        ">>> a = [1, 2, 3, 4, 5]\n",
        ">>> b = a[:2]#리스트 a의 첫 번째 요소부터 두 번째 요소인 a[1]까지 나타내는 리스트이다. 물론 a[2] 값인 3은 포함되지 않는다.\n",
        ">>> c = a[2:]#c라는 변수는 리스트 a의 세 번째 요소부터 끝까지 나타내는 리스트이다.\n",
        ">>> b"
      ],
      "metadata": {
        "colab": {
          "base_uri": "https://localhost:8080/"
        },
        "id": "ctnOC_meFywy",
        "outputId": "6f979d22-e05b-4270-fc7f-d5908b0dd5c7"
      },
      "execution_count": 79,
      "outputs": [
        {
          "output_type": "execute_result",
          "data": {
            "text/plain": [
              "[1, 2]"
            ]
          },
          "metadata": {},
          "execution_count": 79
        }
      ]
    },
    {
      "cell_type": "code",
      "source": [
        ">>> c"
      ],
      "metadata": {
        "colab": {
          "base_uri": "https://localhost:8080/"
        },
        "id": "ZTmegGKOF0SB",
        "outputId": "cfb98165-8ed1-4f24-a3d8-cc2328e43ece"
      },
      "execution_count": 80,
      "outputs": [
        {
          "output_type": "execute_result",
          "data": {
            "text/plain": [
              "[3, 4, 5]"
            ]
          },
          "metadata": {},
          "execution_count": 80
        }
      ]
    },
    {
      "cell_type": "code",
      "source": [
        ">>> a = [1, 2, 3, ['a', 'b', 'c'], 4, 5]#리스트가 포함된 중첩 리스트 역시 슬라이싱 방법은 똑같이 적용된다.\n",
        ">>> a[2:5]"
      ],
      "metadata": {
        "colab": {
          "base_uri": "https://localhost:8080/"
        },
        "id": "ll7t4hP8F6t5",
        "outputId": "3d999068-4749-4622-85ac-88162a170f50"
      },
      "execution_count": 81,
      "outputs": [
        {
          "output_type": "execute_result",
          "data": {
            "text/plain": [
              "[3, ['a', 'b', 'c'], 4]"
            ]
          },
          "metadata": {},
          "execution_count": 81
        }
      ]
    },
    {
      "cell_type": "code",
      "source": [
        ">>> a[3][:2]"
      ],
      "metadata": {
        "colab": {
          "base_uri": "https://localhost:8080/"
        },
        "id": "uRCA5kAYGJBR",
        "outputId": "02bdade3-e4d4-466d-85b6-0e4c1da2ba6a"
      },
      "execution_count": 82,
      "outputs": [
        {
          "output_type": "execute_result",
          "data": {
            "text/plain": [
              "['a', 'b']"
            ]
          },
          "metadata": {},
          "execution_count": 82
        }
      ]
    },
    {
      "cell_type": "code",
      "source": [
        ">>> a = [1, 2, 3]#리스트 역시 +를 사용해서 더할 수 있고 *를 사용해서 반복할 수 있다.\n",
        ">>> b = [4, 5, 6]\n",
        ">>> a + b"
      ],
      "metadata": {
        "colab": {
          "base_uri": "https://localhost:8080/"
        },
        "id": "Ky258ByHGL1E",
        "outputId": "7d5c55c4-2e5a-4b57-ca72-78034bc91e1b"
      },
      "execution_count": 83,
      "outputs": [
        {
          "output_type": "execute_result",
          "data": {
            "text/plain": [
              "[1, 2, 3, 4, 5, 6]"
            ]
          },
          "metadata": {},
          "execution_count": 83
        }
      ]
    },
    {
      "cell_type": "code",
      "source": [
        ">>> a * 3"
      ],
      "metadata": {
        "colab": {
          "base_uri": "https://localhost:8080/"
        },
        "id": "qwzfMYWYGMgp",
        "outputId": "ca102c53-e2ec-47a9-c669-33a89fe5108c"
      },
      "execution_count": 86,
      "outputs": [
        {
          "output_type": "execute_result",
          "data": {
            "text/plain": [
              "[1, 2, 3, 1, 2, 3, 1, 2, 3]"
            ]
          },
          "metadata": {},
          "execution_count": 86
        }
      ]
    },
    {
      "cell_type": "code",
      "source": [
        ">>> a = [1, 2, 3]#리스트 길이를 구하기 위해서는 다음처럼 len 함수를 사용해야 한다.\n",
        ">>> len(a)"
      ],
      "metadata": {
        "colab": {
          "base_uri": "https://localhost:8080/"
        },
        "id": "lF55SdMqGMeS",
        "outputId": "2c38c066-8bf5-41d5-bd01-296aad94cbbe"
      },
      "execution_count": 87,
      "outputs": [
        {
          "output_type": "execute_result",
          "data": {
            "text/plain": [
              "3"
            ]
          },
          "metadata": {},
          "execution_count": 87
        }
      ]
    },
    {
      "cell_type": "code",
      "source": [
        ">>> a = [1, 2, 3]\n",
        "#>>> a[2] + \"hi\"\n",
        "# 정수와 문자열은 당연히 서로 더할 수 없기 때문에 오류가 발생.\n",
        "#만약 숫자와 문자열을 더해서 '3hi'를 만들고 싶다면 다음처럼 숫자 3을 문자 '3'으로 바꾸어야 한다.\n",
        ">>> str(a[2]) + \"hi\""
      ],
      "metadata": {
        "colab": {
          "base_uri": "https://localhost:8080/",
          "height": 35
        },
        "id": "TAq0IAmJGMcC",
        "outputId": "32eebdb9-b10b-4822-ed42-8ba4b48a6c04"
      },
      "execution_count": 89,
      "outputs": [
        {
          "output_type": "execute_result",
          "data": {
            "text/plain": [
              "'3hi'"
            ],
            "application/vnd.google.colaboratory.intrinsic+json": {
              "type": "string"
            }
          },
          "metadata": {},
          "execution_count": 89
        }
      ]
    },
    {
      "cell_type": "code",
      "source": [
        ">>> a = [1, 2, 3]#리스트의 수정\n",
        ">>> a[2] = 4\n",
        ">>> a"
      ],
      "metadata": {
        "colab": {
          "base_uri": "https://localhost:8080/"
        },
        "id": "90uO5aenGLui",
        "outputId": "072d9cff-796f-43af-eb12-41f5fef1fab6"
      },
      "execution_count": 90,
      "outputs": [
        {
          "output_type": "execute_result",
          "data": {
            "text/plain": [
              "[1, 2, 4]"
            ]
          },
          "metadata": {},
          "execution_count": 90
        }
      ]
    },
    {
      "cell_type": "code",
      "source": [
        ">>> a = [1, 2, 3]#리스트의 삭제\n",
        ">>> del a[1]#del은 파이썬의 내장 키워드로 객체를 삭제할 때 사용하며 다음과 같이 사용한다. del 객체\n",
        ">>> a"
      ],
      "metadata": {
        "colab": {
          "base_uri": "https://localhost:8080/"
        },
        "id": "grFNwHlhHqCw",
        "outputId": "7023d2fd-fdc4-45d0-805d-12214f83d4f2"
      },
      "execution_count": 91,
      "outputs": [
        {
          "output_type": "execute_result",
          "data": {
            "text/plain": [
              "[1, 3]"
            ]
          },
          "metadata": {},
          "execution_count": 91
        }
      ]
    },
    {
      "cell_type": "code",
      "source": [
        ">>> a = [1, 2, 3, 4, 5]\n",
        ">>> del a[2:]#인덱스3번째부터 잘라내기\n",
        ">>> a"
      ],
      "metadata": {
        "colab": {
          "base_uri": "https://localhost:8080/"
        },
        "id": "AWw9ysDZH4mI",
        "outputId": "7bc4074a-4fed-4251-aa07-744c06490050"
      },
      "execution_count": 92,
      "outputs": [
        {
          "output_type": "execute_result",
          "data": {
            "text/plain": [
              "[1, 2]"
            ]
          },
          "metadata": {},
          "execution_count": 92
        }
      ]
    },
    {
      "cell_type": "code",
      "source": [
        ">>> a = [1, 2, 3]\n",
        ">>> a.append(4)# append(x)는 리스트의 맨 마지막에 x를 추가하는 함수\n",
        ">>> a"
      ],
      "metadata": {
        "colab": {
          "base_uri": "https://localhost:8080/"
        },
        "id": "xqlsLPkTJMoI",
        "outputId": "8c9e393a-4efe-4585-ceee-8cdec322db7b"
      },
      "execution_count": 93,
      "outputs": [
        {
          "output_type": "execute_result",
          "data": {
            "text/plain": [
              "[1, 2, 3, 4]"
            ]
          },
          "metadata": {},
          "execution_count": 93
        }
      ]
    },
    {
      "cell_type": "code",
      "source": [
        ">>> a.append([5, 6])#어떤유형이든 추가 가능\n",
        ">>> a"
      ],
      "metadata": {
        "colab": {
          "base_uri": "https://localhost:8080/"
        },
        "id": "CyppMaf7JQEo",
        "outputId": "55cfcac9-9d4a-4140-f7b3-3ae343eafb49"
      },
      "execution_count": 94,
      "outputs": [
        {
          "output_type": "execute_result",
          "data": {
            "text/plain": [
              "[1, 2, 3, 4, [5, 6]]"
            ]
          },
          "metadata": {},
          "execution_count": 94
        }
      ]
    },
    {
      "cell_type": "code",
      "source": [
        ">>> a = [1, 4, 3, 2]\n",
        ">>> a.sort()#sort 함수는 리스트의 요소를 순서대로 정렬해 준다.\n",
        ">>> a"
      ],
      "metadata": {
        "colab": {
          "base_uri": "https://localhost:8080/"
        },
        "id": "dowuwjavJVqw",
        "outputId": "681d5a84-ac2c-4a59-c761-04c46e732085"
      },
      "execution_count": 95,
      "outputs": [
        {
          "output_type": "execute_result",
          "data": {
            "text/plain": [
              "[1, 2, 3, 4]"
            ]
          },
          "metadata": {},
          "execution_count": 95
        }
      ]
    },
    {
      "cell_type": "code",
      "source": [
        ">>> a = ['a', 'c', 'b']\n",
        ">>> a.sort()\n",
        ">>> a"
      ],
      "metadata": {
        "colab": {
          "base_uri": "https://localhost:8080/"
        },
        "id": "0q3gUBKBJWX3",
        "outputId": "c53d3f3b-66ba-4d6e-d353-a11d0d8cd8c1"
      },
      "execution_count": 96,
      "outputs": [
        {
          "output_type": "execute_result",
          "data": {
            "text/plain": [
              "['a', 'b', 'c']"
            ]
          },
          "metadata": {},
          "execution_count": 96
        }
      ]
    },
    {
      "cell_type": "code",
      "source": [
        ">>> a = ['a', 'c', 'b']#reverse 함수는 리스트를 역순으로 뒤집어 준다.\n",
        "#이때 리스트 요소들을 순서대로 정렬한 다음 다시 역순으로 정렬하는 것이 아니라\n",
        "# 현재의 리스트를 그대로 거꾸로 뒤집는다.\n",
        ">>> a.reverse()\n",
        ">>> a"
      ],
      "metadata": {
        "colab": {
          "base_uri": "https://localhost:8080/"
        },
        "id": "CdGicRNaJWVp",
        "outputId": "d6bc1a63-4ef9-4f74-c73d-0cc36a21b111"
      },
      "execution_count": 97,
      "outputs": [
        {
          "output_type": "execute_result",
          "data": {
            "text/plain": [
              "['b', 'c', 'a']"
            ]
          },
          "metadata": {},
          "execution_count": 97
        }
      ]
    },
    {
      "cell_type": "code",
      "source": [
        ">>> a = [1, 2, 3]\n",
        ">>> a.index(3)#index(x) 함수는 리스트에 x 값이 있으면 x의 인덱스 값(위칫값)을 반환한다."
      ],
      "metadata": {
        "colab": {
          "base_uri": "https://localhost:8080/"
        },
        "id": "VyHw345hJWTP",
        "outputId": "6b75b2d7-df09-4ebe-8451-567c951b301f"
      },
      "execution_count": 98,
      "outputs": [
        {
          "output_type": "execute_result",
          "data": {
            "text/plain": [
              "2"
            ]
          },
          "metadata": {},
          "execution_count": 98
        }
      ]
    },
    {
      "cell_type": "code",
      "source": [
        ">>> a.index(0)#다음 예에서 값 0은 a 리스트에 존재하지 않기 때문에 오류가 발생한다."
      ],
      "metadata": {
        "colab": {
          "base_uri": "https://localhost:8080/",
          "height": 147
        },
        "id": "GwFwvlLaJWRK",
        "outputId": "efd08294-a15b-4f1a-bc04-b96aed4a51c4"
      },
      "execution_count": 99,
      "outputs": [
        {
          "output_type": "error",
          "ename": "ValueError",
          "evalue": "0 is not in list",
          "traceback": [
            "\u001b[0;31m---------------------------------------------------------------------------\u001b[0m",
            "\u001b[0;31mValueError\u001b[0m                                Traceback (most recent call last)",
            "\u001b[0;32m/tmp/ipython-input-777327696.py\u001b[0m in \u001b[0;36m<cell line: 0>\u001b[0;34m()\u001b[0m\n\u001b[0;32m----> 1\u001b[0;31m \u001b[0ma\u001b[0m\u001b[0;34m.\u001b[0m\u001b[0mindex\u001b[0m\u001b[0;34m(\u001b[0m\u001b[0;36m0\u001b[0m\u001b[0;34m)\u001b[0m\u001b[0;31m#다음 예에서 값 0은 a 리스트에 존재하지 않기 때문에 오류가 발생한다.\u001b[0m\u001b[0;34m\u001b[0m\u001b[0;34m\u001b[0m\u001b[0m\n\u001b[0m",
            "\u001b[0;31mValueError\u001b[0m: 0 is not in list"
          ]
        }
      ]
    },
    {
      "cell_type": "code",
      "source": [
        ">>> a = [1, 2, 3]#insert(a, b)는 리스트의 a번째 위치에 b를 삽입하는 함수이다.\n",
        "# 파이썬은 숫자를 0부터 센다는 것을 반드시 기억하자.\n",
        ">>> a.insert(0, 4)\n",
        ">>> a"
      ],
      "metadata": {
        "colab": {
          "base_uri": "https://localhost:8080/"
        },
        "id": "6iDdnd_EJWO3",
        "outputId": "d75a3691-3bb8-4d07-8338-c6f8490de5f5"
      },
      "execution_count": 100,
      "outputs": [
        {
          "output_type": "execute_result",
          "data": {
            "text/plain": [
              "[4, 1, 2, 3]"
            ]
          },
          "metadata": {},
          "execution_count": 100
        }
      ]
    },
    {
      "cell_type": "code",
      "source": [
        ">>> a.insert(3, 5)\n",
        ">>> a"
      ],
      "metadata": {
        "colab": {
          "base_uri": "https://localhost:8080/"
        },
        "id": "8THrDQHXJWMK",
        "outputId": "39f8610f-2be6-44b7-9b86-0c199e2c937c"
      },
      "execution_count": 101,
      "outputs": [
        {
          "output_type": "execute_result",
          "data": {
            "text/plain": [
              "[4, 1, 2, 5, 3]"
            ]
          },
          "metadata": {},
          "execution_count": 101
        }
      ]
    },
    {
      "cell_type": "code",
      "source": [
        ">>> a = [1, 2, 3, 1, 2, 3]\n",
        ">>> a.remove(3)#리스트에서 첫 번째로 나오는 x를 삭제하는 함수이다.\n",
        ">>> a"
      ],
      "metadata": {
        "colab": {
          "base_uri": "https://localhost:8080/"
        },
        "id": "ok_7E7p0JWJx",
        "outputId": "e78ff6de-1973-4a01-d6ef-9e5103b03aab"
      },
      "execution_count": 102,
      "outputs": [
        {
          "output_type": "execute_result",
          "data": {
            "text/plain": [
              "[1, 2, 1, 2, 3]"
            ]
          },
          "metadata": {},
          "execution_count": 102
        }
      ]
    },
    {
      "cell_type": "code",
      "source": [
        ">>> a.remove(3)#a가 3이라는 값을 2개 가지고 있을 경우, 첫 번째 3만 제거되는 것을 알 수 있다.\n",
        ">>> a"
      ],
      "metadata": {
        "colab": {
          "base_uri": "https://localhost:8080/"
        },
        "id": "1kqFmOmMJVn_",
        "outputId": "c7c18e34-425b-4f12-b29d-7f0c72fdbca3"
      },
      "execution_count": 103,
      "outputs": [
        {
          "output_type": "execute_result",
          "data": {
            "text/plain": [
              "[1, 2, 1, 2]"
            ]
          },
          "metadata": {},
          "execution_count": 103
        }
      ]
    },
    {
      "cell_type": "code",
      "source": [
        ">>> a = [1, 2, 3]\n",
        ">>> a.pop()#pop()은 리스트의 맨 마지막 요소를 반환하고 그 요소는 삭제한다."
      ],
      "metadata": {
        "colab": {
          "base_uri": "https://localhost:8080/"
        },
        "id": "wpC86bytKG7Q",
        "outputId": "cac48ff4-54a4-4c86-8b4b-44c08439492d"
      },
      "execution_count": 104,
      "outputs": [
        {
          "output_type": "execute_result",
          "data": {
            "text/plain": [
              "3"
            ]
          },
          "metadata": {},
          "execution_count": 104
        }
      ]
    },
    {
      "cell_type": "code",
      "source": [
        ">>> a\n",
        "#pop된 요소 삭제됨"
      ],
      "metadata": {
        "colab": {
          "base_uri": "https://localhost:8080/"
        },
        "id": "If9hiqFJKG45",
        "outputId": "753b0ed7-7712-4716-e5d3-2c6d9ea026f9"
      },
      "execution_count": 105,
      "outputs": [
        {
          "output_type": "execute_result",
          "data": {
            "text/plain": [
              "[1, 2]"
            ]
          },
          "metadata": {},
          "execution_count": 105
        }
      ]
    },
    {
      "cell_type": "code",
      "source": [
        ">>> a.pop(1)"
      ],
      "metadata": {
        "colab": {
          "base_uri": "https://localhost:8080/"
        },
        "id": "ZbIAFYDRKG2r",
        "outputId": "794a82b8-d804-42c9-8669-e5ab8a31fdef"
      },
      "execution_count": 106,
      "outputs": [
        {
          "output_type": "execute_result",
          "data": {
            "text/plain": [
              "2"
            ]
          },
          "metadata": {},
          "execution_count": 106
        }
      ]
    },
    {
      "cell_type": "code",
      "source": [
        ">>> a"
      ],
      "metadata": {
        "colab": {
          "base_uri": "https://localhost:8080/"
        },
        "id": "0Xjaz7YgKG0H",
        "outputId": "97259432-35f1-4792-8c1e-0d783b6dc961"
      },
      "execution_count": 107,
      "outputs": [
        {
          "output_type": "execute_result",
          "data": {
            "text/plain": [
              "[1]"
            ]
          },
          "metadata": {},
          "execution_count": 107
        }
      ]
    },
    {
      "cell_type": "code",
      "source": [
        ">>> a = [1, 2, 3, 1]\n",
        ">>> a.count(1)#count(x)는 리스트 안에 x가 몇 개 있는지 조사하여 그 개수를 반환하는 함수이다."
      ],
      "metadata": {
        "colab": {
          "base_uri": "https://localhost:8080/"
        },
        "id": "lMEOogvzKGxf",
        "outputId": "2b716afb-3d6a-4db9-a7a3-2f102df0f835"
      },
      "execution_count": 108,
      "outputs": [
        {
          "output_type": "execute_result",
          "data": {
            "text/plain": [
              "2"
            ]
          },
          "metadata": {},
          "execution_count": 108
        }
      ]
    },
    {
      "cell_type": "code",
      "source": [
        ">>> a = [1, 2, 3]\n",
        ">>> a.extend([4, 5])#extend(x)에서 x에는 리스트만 올 수 있으며 원래의 a 리스트에 x 리스트를 더하게 된다.\n",
        ">>> a"
      ],
      "metadata": {
        "colab": {
          "base_uri": "https://localhost:8080/"
        },
        "id": "tJt0TcvKKGvC",
        "outputId": "a641edcb-f589-49ce-cb38-b12fbd213382"
      },
      "execution_count": 110,
      "outputs": [
        {
          "output_type": "execute_result",
          "data": {
            "text/plain": [
              "[1, 2, 3, 4, 5]"
            ]
          },
          "metadata": {},
          "execution_count": 110
        }
      ]
    },
    {
      "cell_type": "code",
      "source": [
        ">>> b = [6, 7]\n",
        ">>> a.extend(b)\n",
        ">>> a"
      ],
      "metadata": {
        "colab": {
          "base_uri": "https://localhost:8080/"
        },
        "id": "5BMIC-cOKGrI",
        "outputId": "1b3af7f3-6319-4fae-af9e-6a72d6810b81"
      },
      "execution_count": 111,
      "outputs": [
        {
          "output_type": "execute_result",
          "data": {
            "text/plain": [
              "[1, 2, 3, 4, 5, 6, 7]"
            ]
          },
          "metadata": {},
          "execution_count": 111
        }
      ]
    },
    {
      "cell_type": "code",
      "source": [
        "#a.extend([8, 9])는\n",
        "a += [8, 9]#와 동일하다. 근데 여기서 광클해버림\n",
        "a"
      ],
      "metadata": {
        "colab": {
          "base_uri": "https://localhost:8080/"
        },
        "id": "IVtMdcy0Kk7X",
        "outputId": "60b04980-7410-48cc-dce2-d5fcc4bc794c"
      },
      "execution_count": 125,
      "outputs": [
        {
          "output_type": "execute_result",
          "data": {
            "text/plain": [
              "[1,\n",
              " 2,\n",
              " 3,\n",
              " 4,\n",
              " 5,\n",
              " 6,\n",
              " 7,\n",
              " 4,\n",
              " 5,\n",
              " 8,\n",
              " 9,\n",
              " 8,\n",
              " 9,\n",
              " 8,\n",
              " 9,\n",
              " 8,\n",
              " 9,\n",
              " 8,\n",
              " 9,\n",
              " 8,\n",
              " 9,\n",
              " 8,\n",
              " 9,\n",
              " 8,\n",
              " 9,\n",
              " 8,\n",
              " 9,\n",
              " 8,\n",
              " 9]"
            ]
          },
          "metadata": {},
          "execution_count": 125
        }
      ]
    },
    {
      "cell_type": "code",
      "source": [
        "\"{0:=^100}\".format(\"여기서부터 2-4 튜플 자료형\")"
      ],
      "metadata": {
        "colab": {
          "base_uri": "https://localhost:8080/",
          "height": 35
        },
        "id": "DlauRhxmKk4_",
        "outputId": "2e04f2ca-8502-4659-93cb-b5a90c9eb74c"
      },
      "execution_count": 126,
      "outputs": [
        {
          "output_type": "execute_result",
          "data": {
            "text/plain": [
              "'==========================================여기서부터 2-4 튜플 자료형=========================================='"
            ],
            "application/vnd.google.colaboratory.intrinsic+json": {
              "type": "string"
            }
          },
          "metadata": {},
          "execution_count": 126
        }
      ]
    },
    {
      "cell_type": "code",
      "source": [
        "#튜플(tuple)은 몇 가지 점을 제외하곤 리스트와 거의 비슷하며 리스트와 다른 점은 다음과 같다.\n",
        "\n",
        "#리스트는 [], 튜플은 ()으로 둘러싼다.\n",
        "#리스트는 요솟값의 생성, 삭제, 수정이 가능하지만, 튜플은 요솟값을 바꿀 수 없다."
      ],
      "metadata": {
        "id": "IDXHp-jeKkz_"
      },
      "execution_count": null,
      "outputs": []
    },
    {
      "cell_type": "code",
      "source": [
        "t1 = ()\n",
        "t2 = (1,)\n",
        "t3 = (1, 2, 3)\n",
        "t4 = 1, 2, 3\n",
        "t5 = ('a', 'b', ('ab', 'cd'))\n",
        "#모습은 리스트와 거의 비슷하지만,\n",
        "#튜플의 요솟값은 변화가 불가능하다.\n",
        "#+단지 1개의 요소만을 가질 때는 요소 뒤에 쉼표(,)를 반드시 붙여야 한다는 것과\n",
        "# t4 = 1, 2, 3처럼 소괄호(())를 생략해도 된다는 점이다."
      ],
      "metadata": {
        "id": "ef33uxEbKkxH"
      },
      "execution_count": null,
      "outputs": []
    },
    {
      "cell_type": "code",
      "source": [
        "\"{0:!^50}\".format(\"리스트의 요솟값은 변화가 가능하고 튜플의 요솟값은 변화가 불가능\")"
      ],
      "metadata": {
        "colab": {
          "base_uri": "https://localhost:8080/",
          "height": 35
        },
        "id": "sRNN48hbLXn-",
        "outputId": "072601a0-eeb1-4ecc-ead0-09dba4a7d24c"
      },
      "execution_count": 127,
      "outputs": [
        {
          "output_type": "execute_result",
          "data": {
            "text/plain": [
              "'!!!!!!!리스트의 요솟값은 변화가 가능하고 튜플의 요솟값은 변화가 불가능!!!!!!!!'"
            ],
            "application/vnd.google.colaboratory.intrinsic+json": {
              "type": "string"
            }
          },
          "metadata": {},
          "execution_count": 127
        }
      ]
    },
    {
      "cell_type": "code",
      "source": [
        ">>> t1 = (1, 2, 'a', 'b')#인덱싱\n",
        ">>> t1[0]\n",
        "1\n",
        ">>> t1[3]"
      ],
      "metadata": {
        "colab": {
          "base_uri": "https://localhost:8080/",
          "height": 35
        },
        "id": "FyLSTO8POHFF",
        "outputId": "313fde52-72b5-4270-c62d-0ced72e0b940"
      },
      "execution_count": 128,
      "outputs": [
        {
          "output_type": "execute_result",
          "data": {
            "text/plain": [
              "'b'"
            ],
            "application/vnd.google.colaboratory.intrinsic+json": {
              "type": "string"
            }
          },
          "metadata": {},
          "execution_count": 128
        }
      ]
    },
    {
      "cell_type": "code",
      "source": [
        ">>> t1 = (1, 2, 'a', 'b')#슬라이싱\n",
        ">>> t1[1:]"
      ],
      "metadata": {
        "colab": {
          "base_uri": "https://localhost:8080/"
        },
        "id": "-2KoAsnvOHCv",
        "outputId": "cbd13b5f-eacb-4c9b-80a3-95695a2040df"
      },
      "execution_count": 129,
      "outputs": [
        {
          "output_type": "execute_result",
          "data": {
            "text/plain": [
              "(2, 'a', 'b')"
            ]
          },
          "metadata": {},
          "execution_count": 129
        }
      ]
    },
    {
      "cell_type": "code",
      "source": [
        ">>> t1 = (1, 2, 'a', 'b')#더하기\n",
        ">>> t2 = (3, 4)\n",
        ">>> t3 = t1 + t2\n",
        ">>> t3"
      ],
      "metadata": {
        "colab": {
          "base_uri": "https://localhost:8080/"
        },
        "id": "htLRNJkbOHAd",
        "outputId": "ef4fb870-70e6-4deb-9c10-478c47be87ba"
      },
      "execution_count": 130,
      "outputs": [
        {
          "output_type": "execute_result",
          "data": {
            "text/plain": [
              "(1, 2, 'a', 'b', 3, 4)"
            ]
          },
          "metadata": {},
          "execution_count": 130
        }
      ]
    },
    {
      "cell_type": "code",
      "source": [
        ">>> t2 = (3, 4)#곱하기\n",
        ">>> t3 = t2 * 3\n",
        ">>> t3"
      ],
      "metadata": {
        "colab": {
          "base_uri": "https://localhost:8080/"
        },
        "id": "aXsBsOkvPoaH",
        "outputId": "a070bf9d-c550-47a0-9b0d-d3bfaa41dca6"
      },
      "execution_count": 131,
      "outputs": [
        {
          "output_type": "execute_result",
          "data": {
            "text/plain": [
              "(3, 4, 3, 4, 3, 4)"
            ]
          },
          "metadata": {},
          "execution_count": 131
        }
      ]
    },
    {
      "cell_type": "code",
      "source": [
        ">>> t1 = (1, 2, 'a', 'b')#길이 구하기\n",
        ">>> len(t1)"
      ],
      "metadata": {
        "colab": {
          "base_uri": "https://localhost:8080/"
        },
        "id": "f0x5SbylPoX3",
        "outputId": "d872d2de-fc8e-4376-8217-af660b60fde0"
      },
      "execution_count": 134,
      "outputs": [
        {
          "output_type": "execute_result",
          "data": {
            "text/plain": [
              "4"
            ]
          },
          "metadata": {},
          "execution_count": 134
        }
      ]
    },
    {
      "cell_type": "code",
      "source": [
        "\"{0:=^100}\".format(\"여기서부터 2-5 딕셔너리 자료형\")"
      ],
      "metadata": {
        "colab": {
          "base_uri": "https://localhost:8080/",
          "height": 35
        },
        "id": "rY2jvGeWPoVk",
        "outputId": "d046a5a6-7673-46d3-eeb4-1aec3621dda7"
      },
      "execution_count": 132,
      "outputs": [
        {
          "output_type": "execute_result",
          "data": {
            "text/plain": [
              "'=========================================여기서부터 2-5 딕셔너리 자료형========================================='"
            ],
            "application/vnd.google.colaboratory.intrinsic+json": {
              "type": "string"
            }
          },
          "metadata": {},
          "execution_count": 132
        }
      ]
    },
    {
      "cell_type": "code",
      "source": [
        "#\"people\"이라는 단어에 \"사람\", \"baseball\"이라는 단어에 \"야구\"라는 뜻이 부합되듯이\n",
        "#딕셔너리는 Key와 Value를 한 쌍으로 가지는 자료형이다.\n",
        "#예컨대 Key가 \"baseball\"이라면 Value는 \"야구\"가 될 것이다.\n",
        "#딕셔너리는 리스트나 튜플처럼 순차적으로(sequential) 해당 요솟값을 구하지 않고 Key를 통해 Value를 얻는다.\n",
        "#딕셔너리의 기본적인 형태는 이렇게 생김 {Key1: Value1, Key2: Value2, Key3: Value3, ...}"
      ],
      "metadata": {
        "id": "_seIhchTP9e2"
      },
      "execution_count": 136,
      "outputs": []
    },
    {
      "cell_type": "code",
      "source": [
        ">>> dic = {'name': 'pey', 'phone': '010-9999-1234', 'birth': '1118'}#value엔 정수형, 리스트 ..다 올수 있음"
      ],
      "metadata": {
        "id": "X0cEem9EP9cf"
      },
      "execution_count": 138,
      "outputs": []
    },
    {
      "cell_type": "code",
      "source": [
        ">>> a = {1: 'a'}#딕셔너리 쌍 추가하기\n",
        ">>> a[2] = 'b'\n",
        ">>> a"
      ],
      "metadata": {
        "colab": {
          "base_uri": "https://localhost:8080/"
        },
        "id": "--a3VTmoP9aR",
        "outputId": "21c5f053-f446-45b0-dd66-b9d99715fae8"
      },
      "execution_count": 139,
      "outputs": [
        {
          "output_type": "execute_result",
          "data": {
            "text/plain": [
              "{1: 'a', 2: 'b'}"
            ]
          },
          "metadata": {},
          "execution_count": 139
        }
      ]
    },
    {
      "cell_type": "code",
      "source": [
        ">>> a['name'] = 'pey'\n",
        ">>> a"
      ],
      "metadata": {
        "colab": {
          "base_uri": "https://localhost:8080/"
        },
        "id": "-zih3b3EP9YA",
        "outputId": "06fb0f19-2809-488f-808d-14b76abe7a27"
      },
      "execution_count": 140,
      "outputs": [
        {
          "output_type": "execute_result",
          "data": {
            "text/plain": [
              "{1: 'a', 2: 'b', 'name': 'pey'}"
            ]
          },
          "metadata": {},
          "execution_count": 140
        }
      ]
    },
    {
      "cell_type": "code",
      "source": [
        ">>> a[3] = [1, 2, 3]#정수, 문자, 리스트 다 추가 가능\n",
        ">>> a"
      ],
      "metadata": {
        "colab": {
          "base_uri": "https://localhost:8080/"
        },
        "id": "dr4VG_G5P9Vq",
        "outputId": "34632cec-65ae-47a4-d5ae-4a92821fc220"
      },
      "execution_count": 141,
      "outputs": [
        {
          "output_type": "execute_result",
          "data": {
            "text/plain": [
              "{1: 'a', 2: 'b', 'name': 'pey', 3: [1, 2, 3]}"
            ]
          },
          "metadata": {},
          "execution_count": 141
        }
      ]
    },
    {
      "cell_type": "code",
      "source": [
        ">>> del a[1]#삭제 가능\n",
        ">>> a"
      ],
      "metadata": {
        "colab": {
          "base_uri": "https://localhost:8080/"
        },
        "id": "gACGxbL6P9TW",
        "outputId": "8ff941b6-39d3-4d11-bb84-f0a0c8211e31"
      },
      "execution_count": 142,
      "outputs": [
        {
          "output_type": "execute_result",
          "data": {
            "text/plain": [
              "{2: 'b', 'name': 'pey', 3: [1, 2, 3]}"
            ]
          },
          "metadata": {},
          "execution_count": 142
        }
      ]
    },
    {
      "cell_type": "code",
      "source": [
        ">>> grade = {'pey': 10, 'julliet': 99}\n",
        ">>> grade['pey']"
      ],
      "metadata": {
        "colab": {
          "base_uri": "https://localhost:8080/"
        },
        "id": "y2jYoZiCP9O9",
        "outputId": "9b71d681-ddda-4b37-b0e8-1b241604e9cd"
      },
      "execution_count": 143,
      "outputs": [
        {
          "output_type": "execute_result",
          "data": {
            "text/plain": [
              "10"
            ]
          },
          "metadata": {},
          "execution_count": 143
        }
      ]
    },
    {
      "cell_type": "code",
      "source": [
        ">>> grade['julliet']"
      ],
      "metadata": {
        "colab": {
          "base_uri": "https://localhost:8080/"
        },
        "id": "jX-gDiXzSKBr",
        "outputId": "ee3ec65a-978b-40e0-ce80-b384e2033420"
      },
      "execution_count": 144,
      "outputs": [
        {
          "output_type": "execute_result",
          "data": {
            "text/plain": [
              "99"
            ]
          },
          "metadata": {},
          "execution_count": 144
        }
      ]
    },
    {
      "cell_type": "code",
      "source": [
        ">>> a = {1:'a', 2:'b'}#인덱싱은 안됨 key로만 찾을수 있음 value도 안되네\n",
        ">>> a[1]"
      ],
      "metadata": {
        "colab": {
          "base_uri": "https://localhost:8080/",
          "height": 35
        },
        "id": "w4A51mAHSJ_G",
        "outputId": "e47857ba-5d4e-48ed-d720-05d4cdfc1e51"
      },
      "execution_count": 148,
      "outputs": [
        {
          "output_type": "execute_result",
          "data": {
            "text/plain": [
              "'a'"
            ],
            "application/vnd.google.colaboratory.intrinsic+json": {
              "type": "string"
            }
          },
          "metadata": {},
          "execution_count": 148
        }
      ]
    },
    {
      "cell_type": "code",
      "source": [
        ">>> a = {'a': 1, 'b': 2}\n",
        ">>> a['a']"
      ],
      "metadata": {
        "colab": {
          "base_uri": "https://localhost:8080/"
        },
        "id": "q5P5_NXASJ8z",
        "outputId": "4301092b-614c-460a-9a66-627f2a600dd1"
      },
      "execution_count": 147,
      "outputs": [
        {
          "output_type": "execute_result",
          "data": {
            "text/plain": [
              "1"
            ]
          },
          "metadata": {},
          "execution_count": 147
        }
      ]
    },
    {
      "cell_type": "code",
      "source": [
        ">>> dic = {'name':'pey', 'phone':'010-9999-1234', 'birth': '1118'}\n",
        ">>> dic['name']"
      ],
      "metadata": {
        "colab": {
          "base_uri": "https://localhost:8080/",
          "height": 35
        },
        "id": "K5sgHn5eSJ6c",
        "outputId": "b9e09127-bdbd-4c57-ff04-75e73eff4225"
      },
      "execution_count": 149,
      "outputs": [
        {
          "output_type": "execute_result",
          "data": {
            "text/plain": [
              "'pey'"
            ],
            "application/vnd.google.colaboratory.intrinsic+json": {
              "type": "string"
            }
          },
          "metadata": {},
          "execution_count": 149
        }
      ]
    },
    {
      "cell_type": "code",
      "source": [
        ">>> dic['phone']"
      ],
      "metadata": {
        "colab": {
          "base_uri": "https://localhost:8080/",
          "height": 35
        },
        "id": "QONId4swSJ4L",
        "outputId": "cac27355-c7e1-44c0-b4e9-6dd236f2ba35"
      },
      "execution_count": 150,
      "outputs": [
        {
          "output_type": "execute_result",
          "data": {
            "text/plain": [
              "'010-9999-1234'"
            ],
            "application/vnd.google.colaboratory.intrinsic+json": {
              "type": "string"
            }
          },
          "metadata": {},
          "execution_count": 150
        }
      ]
    },
    {
      "cell_type": "code",
      "source": [
        ">>> a = {1:'a', 1:'b'}# 동일한 Key가 2개 존재할 경우, 1: 'a' 쌍이 무시된다. 동일한 Key가 중복으로 존재할 수 없다.\n",
        ">>> a"
      ],
      "metadata": {
        "colab": {
          "base_uri": "https://localhost:8080/"
        },
        "id": "qNFPS-HbT-55",
        "outputId": "79914e43-aff4-453d-9834-44c34a5bca6b"
      },
      "execution_count": 152,
      "outputs": [
        {
          "output_type": "execute_result",
          "data": {
            "text/plain": [
              "{1: 'b'}"
            ]
          },
          "metadata": {},
          "execution_count": 152
        }
      ]
    },
    {
      "cell_type": "code",
      "source": [
        ">>> a = {[1,2] : 'hi'}# Key에 리스트는 쓸 수 없다 (리스트 값이 변할 수 있기 때문) value는 암거나 가능"
      ],
      "metadata": {
        "colab": {
          "base_uri": "https://localhost:8080/",
          "height": 147
        },
        "id": "0i1ug5xPT-3g",
        "outputId": "622a02e0-42bf-4376-9c46-176913100202"
      },
      "execution_count": 154,
      "outputs": [
        {
          "output_type": "error",
          "ename": "TypeError",
          "evalue": "unhashable type: 'list'",
          "traceback": [
            "\u001b[0;31m---------------------------------------------------------------------------\u001b[0m",
            "\u001b[0;31mTypeError\u001b[0m                                 Traceback (most recent call last)",
            "\u001b[0;32m/tmp/ipython-input-2860845176.py\u001b[0m in \u001b[0;36m<cell line: 0>\u001b[0;34m()\u001b[0m\n\u001b[0;32m----> 1\u001b[0;31m \u001b[0ma\u001b[0m \u001b[0;34m=\u001b[0m \u001b[0;34m{\u001b[0m\u001b[0;34m[\u001b[0m\u001b[0;36m1\u001b[0m\u001b[0;34m,\u001b[0m\u001b[0;36m2\u001b[0m\u001b[0;34m]\u001b[0m \u001b[0;34m:\u001b[0m \u001b[0;34m'hi'\u001b[0m\u001b[0;34m}\u001b[0m\u001b[0;31m# Key에 리스트는 쓸 수 없다 (리스트 값이 변할 수 있기 때문) value는 암거나 가능\u001b[0m\u001b[0;34m\u001b[0m\u001b[0;34m\u001b[0m\u001b[0m\n\u001b[0m",
            "\u001b[0;31mTypeError\u001b[0m: unhashable type: 'list'"
          ]
        }
      ]
    },
    {
      "cell_type": "code",
      "source": [
        ">>> a = {'name': 'pey', 'phone': '010-9999-1234', 'birth': '1118'}#a.keys()는 딕셔너리 a의 Key만을 모아 dict_keys 객체를 반환한다.\n",
        ">>> a.keys()"
      ],
      "metadata": {
        "colab": {
          "base_uri": "https://localhost:8080/"
        },
        "id": "VWPCI1iHT-1L",
        "outputId": "9532b4bb-6aad-4c24-ba8b-87bb944374c3"
      },
      "execution_count": 156,
      "outputs": [
        {
          "output_type": "execute_result",
          "data": {
            "text/plain": [
              "dict_keys(['name', 'phone', 'birth'])"
            ]
          },
          "metadata": {},
          "execution_count": 156
        }
      ]
    },
    {
      "cell_type": "code",
      "source": [
        "#약 3.0 이후 버전에서 반환값으로 리스트가 필요한 경우에는 list(a.keys())를 사용하면 된다.\n",
        "#dict_keys, dict_values, dict_items 객체는 리스트로 변환하지 않더라도 기본적인 반복 구문(예: for 문)에서 사용할 수 있다."
      ],
      "metadata": {
        "id": "tkit8LmKUoQ7"
      },
      "execution_count": null,
      "outputs": []
    },
    {
      "cell_type": "code",
      "source": [
        ">>> for k in a.keys():#리스트를 사용하는 것과 별 차이는 없지만, 리스트 고유의 append, insert, pop, remove, sort 함수는 수행할 수 없다.\n",
        "...    print(k)#print(k)를 입력할 때 들여쓰기를 하지 않으면 오류가 발생하므로 주의하자."
      ],
      "metadata": {
        "colab": {
          "base_uri": "https://localhost:8080/"
        },
        "id": "3vpRFvB_UoPT",
        "outputId": "785fb6a6-f712-4d3c-f71c-7d61ccdb8bf1"
      },
      "execution_count": 157,
      "outputs": [
        {
          "output_type": "stream",
          "name": "stdout",
          "text": [
            "name\n",
            "phone\n",
            "birth\n"
          ]
        }
      ]
    },
    {
      "cell_type": "code",
      "source": [
        ">>> list(a.keys())#dict_keys 객체를 리스트로 변환하려면 다음과 같이 하면 된다."
      ],
      "metadata": {
        "colab": {
          "base_uri": "https://localhost:8080/"
        },
        "id": "lqJM3_iaUoMS",
        "outputId": "4d458ad9-8ab7-46af-b119-4444c72a9c4e"
      },
      "execution_count": 159,
      "outputs": [
        {
          "output_type": "execute_result",
          "data": {
            "text/plain": [
              "['name', 'phone', 'birth']"
            ]
          },
          "metadata": {},
          "execution_count": 159
        }
      ]
    },
    {
      "cell_type": "code",
      "source": [
        ">>> a.values()#Value만 얻고 싶다면 values 함수를 사용하면 된다."
      ],
      "metadata": {
        "colab": {
          "base_uri": "https://localhost:8080/"
        },
        "id": "Wh19cfk_UoGC",
        "outputId": "6d11d4fa-b2a3-4ae0-e426-91bc439d5875"
      },
      "execution_count": 160,
      "outputs": [
        {
          "output_type": "execute_result",
          "data": {
            "text/plain": [
              "dict_values(['pey', '010-9999-1234', '1118'])"
            ]
          },
          "metadata": {},
          "execution_count": 160
        }
      ]
    },
    {
      "cell_type": "code",
      "source": [
        ">>> a.items()#items 함수는 Key와 Value의 쌍을 튜플로 묶은 값을 dict_items 객체로 반환한다."
      ],
      "metadata": {
        "colab": {
          "base_uri": "https://localhost:8080/"
        },
        "id": "-doEV3QKU-JF",
        "outputId": "25bf4e72-82aa-49e8-fceb-0671f61204e4"
      },
      "execution_count": 161,
      "outputs": [
        {
          "output_type": "execute_result",
          "data": {
            "text/plain": [
              "dict_items([('name', 'pey'), ('phone', '010-9999-1234'), ('birth', '1118')])"
            ]
          },
          "metadata": {},
          "execution_count": 161
        }
      ]
    },
    {
      "cell_type": "code",
      "source": [
        ">>> a.clear()\n",
        ">>> a"
      ],
      "metadata": {
        "colab": {
          "base_uri": "https://localhost:8080/"
        },
        "id": "5MWZ3Q8PU-Gi",
        "outputId": "d39076e2-2ca1-4a61-ac68-36b8d797c205"
      },
      "execution_count": 162,
      "outputs": [
        {
          "output_type": "execute_result",
          "data": {
            "text/plain": [
              "{}"
            ]
          },
          "metadata": {},
          "execution_count": 162
        }
      ]
    },
    {
      "cell_type": "code",
      "source": [
        ">>> a = {'name': 'pey', 'phone': '010-9999-1234', 'birth': '1118'}\n",
        ">>> a.get('name')#get(x) 함수는 x라는 Key에 대응되는 Value를 반환한다, a.get('name')은 a['name']을 사용했을 때와 동일한 결괏값을 반환한다."
      ],
      "metadata": {
        "colab": {
          "base_uri": "https://localhost:8080/",
          "height": 35
        },
        "id": "OixnDn8HU-ES",
        "outputId": "58efbdd7-9139-4fe7-fae0-0c0e8f1e9e6f"
      },
      "execution_count": 165,
      "outputs": [
        {
          "output_type": "execute_result",
          "data": {
            "text/plain": [
              "'pey'"
            ],
            "application/vnd.google.colaboratory.intrinsic+json": {
              "type": "string"
            }
          },
          "metadata": {},
          "execution_count": 165
        }
      ]
    },
    {
      "cell_type": "code",
      "source": [
        ">>> a.get('phone')"
      ],
      "metadata": {
        "colab": {
          "base_uri": "https://localhost:8080/",
          "height": 35
        },
        "id": "JaATOI_VU-Bq",
        "outputId": "75fac809-024a-4d03-ea8b-2dbfb2a9ab97"
      },
      "execution_count": 164,
      "outputs": [
        {
          "output_type": "execute_result",
          "data": {
            "text/plain": [
              "'010-9999-1234'"
            ],
            "application/vnd.google.colaboratory.intrinsic+json": {
              "type": "string"
            }
          },
          "metadata": {},
          "execution_count": 164
        }
      ]
    },
    {
      "cell_type": "code",
      "source": [
        ">>> a = {'name':'pey', 'phone':'010-9999-1234', 'birth': '1118'}\n",
        ">>> a.get('nokey')\n",
        "#다만, 다음 예제에서 볼 수 있듯이 a['nokey']처럼 딕셔너리에 존재하지 않는 키로 값을 가져오려고 할 경우,\n",
        "#a['nokey'] 방식은 오류를 발생시키고 a.get('nokey') 방식은 None을 반환한다는 차이가 있다.\n",
        "# 어떤 것을 사용할 것인지는 여러분의 선택에 달려 있다."
      ],
      "metadata": {
        "id": "nrLCbY7AU9_C"
      },
      "execution_count": 169,
      "outputs": []
    },
    {
      "cell_type": "code",
      "source": [
        ">>> a['nokey’]"
      ],
      "metadata": {
        "colab": {
          "base_uri": "https://localhost:8080/",
          "height": 110
        },
        "id": "I_aNTmVxU98z",
        "outputId": "4a5cb0e6-8f6a-4e4e-b3b1-ba175991713f"
      },
      "execution_count": 170,
      "outputs": [
        {
          "output_type": "error",
          "ename": "SyntaxError",
          "evalue": "unterminated string literal (detected at line 1) (ipython-input-2685440108.py, line 1)",
          "traceback": [
            "\u001b[0;36m  File \u001b[0;32m\"/tmp/ipython-input-2685440108.py\"\u001b[0;36m, line \u001b[0;32m1\u001b[0m\n\u001b[0;31m    a['nokey’]\u001b[0m\n\u001b[0m      ^\u001b[0m\n\u001b[0;31mSyntaxError\u001b[0m\u001b[0;31m:\u001b[0m unterminated string literal (detected at line 1)\n"
          ]
        }
      ]
    },
    {
      "cell_type": "code",
      "source": [
        ">>> a.get('nokey', '정보없음')#딕셔너리 안에 찾으려는 Key가 없을 경우,\n",
        "#미리 정해 둔 디폴트 값을 대신 가져오게 하고 싶을 때는 get(x, '디폴트 값')을 사용하면 편리하다."
      ],
      "metadata": {
        "colab": {
          "base_uri": "https://localhost:8080/",
          "height": 35
        },
        "id": "tyiX4TGiVoFy",
        "outputId": "44d78d3e-42b7-4022-d444-0c1c1ff5c16a"
      },
      "execution_count": 172,
      "outputs": [
        {
          "output_type": "execute_result",
          "data": {
            "text/plain": [
              "'정보없음'"
            ],
            "application/vnd.google.colaboratory.intrinsic+json": {
              "type": "string"
            }
          },
          "metadata": {},
          "execution_count": 172
        }
      ]
    },
    {
      "cell_type": "code",
      "source": [],
      "metadata": {
        "id": "d7eeAjwWVoDC"
      },
      "execution_count": null,
      "outputs": []
    },
    {
      "cell_type": "code",
      "source": [],
      "metadata": {
        "id": "eIblkvvkVneJ"
      },
      "execution_count": null,
      "outputs": []
    },
    {
      "cell_type": "code",
      "source": [],
      "metadata": {
        "id": "eK4xoWseVnbq"
      },
      "execution_count": null,
      "outputs": []
    },
    {
      "cell_type": "markdown",
      "source": [],
      "metadata": {
        "id": "ySEJP9P8VnTa"
      }
    }
  ]
}