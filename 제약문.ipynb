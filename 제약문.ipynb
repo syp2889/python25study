{
  "nbformat": 4,
  "nbformat_minor": 0,
  "metadata": {
    "colab": {
      "provenance": [],
      "authorship_tag": "ABX9TyM88r5xHPOLwmZmuAujdSi5",
      "include_colab_link": true
    },
    "kernelspec": {
      "name": "python3",
      "display_name": "Python 3"
    },
    "language_info": {
      "name": "python"
    }
  },
  "cells": [
    {
      "cell_type": "markdown",
      "metadata": {
        "id": "view-in-github",
        "colab_type": "text"
      },
      "source": [
        "<a href=\"https://colab.research.google.com/github/syp2889/python25study/blob/main/%EC%A0%9C%EC%95%BD%EB%AC%B8.ipynb\" target=\"_parent\"><img src=\"https://colab.research.google.com/assets/colab-badge.svg\" alt=\"Open In Colab\"/></a>"
      ]
    },
    {
      "cell_type": "markdown",
      "source": [
        "# **IF문 학습하기**"
      ],
      "metadata": {
        "id": "wOKVLmYT7ifi"
      }
    },
    {
      "cell_type": "code",
      "source": [
        ">>> money = True\n",
        ">>> if money:\n",
        "...     print(\"택시를 타고 가라\")\n",
        "... else:\n",
        "...     print(\"걸어 가라\")\n",
        "..."
      ],
      "metadata": {
        "colab": {
          "base_uri": "https://localhost:8080/"
        },
        "id": "V-RMhar57nti",
        "outputId": "939f41bc-551c-4891-9706-f11741a8921c"
      },
      "execution_count": null,
      "outputs": [
        {
          "output_type": "stream",
          "name": "stdout",
          "text": [
            "택시를 타고 가라\n"
          ]
        }
      ]
    },
    {
      "cell_type": "markdown",
      "source": [
        "다음은 if와 else를 사용한 조건문의 기본 구조이다.\n",
        "\n",
        "\n",
        "\n",
        "if 조건문:\n",
        "\n",
        "    수행할_문장1\n",
        "\n",
        "    수행할_문장2\n",
        "\n",
        "    ...\n",
        "\n",
        "\n",
        "else:\n",
        "\n",
        "    수행할_문장A\n",
        "\n",
        "    수행할_문장B\n",
        "\n",
        "    ..."
      ],
      "metadata": {
        "id": "GkXOQ3598DHp"
      }
    },
    {
      "cell_type": "markdown",
      "source": [
        "다음처럼 작성하면 오류가 발생한다. ‘\n",
        "수행할_문장2’를 들여쓰기하지 않았기 때문이다.\n",
        "\n",
        "\n",
        "\n",
        "if 조건문:\n",
        "\n",
        "    수행할_문장1\n",
        "\n",
        "수행할_문장2\n",
        "\n",
        "    수행할_문장3"
      ],
      "metadata": {
        "id": "m2rKP4U58g8h"
      }
    },
    {
      "cell_type": "code",
      "source": [
        "# indent_error.py\n",
        "money = True\n",
        "if money:\n",
        "    print(\"택시를\")\n",
        "print(\"타고\")#들여쓰기 안해서 오류 남 주의주의\n",
        "    print(\"가라\")"
      ],
      "metadata": {
        "colab": {
          "base_uri": "https://localhost:8080/",
          "height": 110
        },
        "id": "6quLeAhN7nqq",
        "outputId": "c9e6fa3f-9cc0-4f09-b9c6-d61a398a13fc"
      },
      "execution_count": null,
      "outputs": [
        {
          "output_type": "error",
          "ename": "IndentationError",
          "evalue": "unexpected indent (ipython-input-3548834574.py, line 6)",
          "traceback": [
            "\u001b[0;36m  File \u001b[0;32m\"/tmp/ipython-input-3548834574.py\"\u001b[0;36m, line \u001b[0;32m6\u001b[0m\n\u001b[0;31m    print(\"가라\")\u001b[0m\n\u001b[0m    ^\u001b[0m\n\u001b[0;31mIndentationError\u001b[0m\u001b[0;31m:\u001b[0m unexpected indent\n"
          ]
        }
      ]
    },
    {
      "cell_type": "code",
      "source": [
        "# indent_error2.py\n",
        "money = True\n",
        "if money:\n",
        "    print(\"택시를\")\n",
        "    print(\"타고\")\n",
        "        print(\"가라\")#들여쓰기 단계가 달라도 오류 남"
      ],
      "metadata": {
        "colab": {
          "base_uri": "https://localhost:8080/",
          "height": 110
        },
        "id": "NEoCeHbX7noB",
        "outputId": "83123563-7394-4d48-f6e7-457e51b17042"
      },
      "execution_count": null,
      "outputs": [
        {
          "output_type": "error",
          "ename": "IndentationError",
          "evalue": "unexpected indent (ipython-input-3487304737.py, line 6)",
          "traceback": [
            "\u001b[0;36m  File \u001b[0;32m\"/tmp/ipython-input-3487304737.py\"\u001b[0;36m, line \u001b[0;32m6\u001b[0m\n\u001b[0;31m    print(\"가라\")\u001b[0m\n\u001b[0m    ^\u001b[0m\n\u001b[0;31mIndentationError\u001b[0m\u001b[0;31m:\u001b[0m unexpected indent\n"
          ]
        }
      ]
    },
    {
      "cell_type": "markdown",
      "source": [
        "요즘 파이썬 커뮤니티에서는 들여쓰기를 할 때 공백 문자 4개를 사용하는 것을 권장한다."
      ],
      "metadata": {
        "id": "UvH3X65E9Aoh"
      }
    },
    {
      "cell_type": "code",
      "source": [
        ">>> money = True\n",
        ">>> if money:\n",
        "...     print(\"택시를 타고 가라\")\n",
        "... else:\n",
        "...     print(\"걸어 가라\")\n",
        "...\n",
        "#if 조건문에서 ‘조건문’이란 참과 거짓을 판단하는 문장을 말한다.\n",
        "#앞에서 살펴본 택시 예제에서 조건문은 money가 된다.\n"
      ],
      "metadata": {
        "colab": {
          "base_uri": "https://localhost:8080/"
        },
        "id": "vucJ8UeK7nlZ",
        "outputId": "e0b08ee3-ca0a-4d2f-d9b4-62618a40c761"
      },
      "execution_count": null,
      "outputs": [
        {
          "output_type": "stream",
          "name": "stdout",
          "text": [
            "택시를 타고 가라\n"
          ]
        }
      ]
    },
    {
      "cell_type": "markdown",
      "source": [
        "이번에는 조건문에 비교 연산자(<, >, ==, !=, >=, <=)를 쓰는 방법에 대해 알아보자."
      ],
      "metadata": {
        "id": "sXuxivGz-O54"
      }
    },
    {
      "cell_type": "code",
      "source": [
        ">>> x = 3\n",
        ">>> y = 2\n",
        ">>> x > y"
      ],
      "metadata": {
        "colab": {
          "base_uri": "https://localhost:8080/"
        },
        "id": "P2acDzPC7nii",
        "outputId": "6f2349b1-1196-45f6-a1c7-3ad8cac3507d"
      },
      "execution_count": null,
      "outputs": [
        {
          "output_type": "execute_result",
          "data": {
            "text/plain": [
              "True"
            ]
          },
          "metadata": {},
          "execution_count": 16
        }
      ]
    },
    {
      "cell_type": "code",
      "source": [
        ">>> x < y"
      ],
      "metadata": {
        "colab": {
          "base_uri": "https://localhost:8080/"
        },
        "id": "QAqqD3R47ndz",
        "outputId": "fa0ce44d-bdd9-47b7-a01f-d4230db06927"
      },
      "execution_count": null,
      "outputs": [
        {
          "output_type": "execute_result",
          "data": {
            "text/plain": [
              "False"
            ]
          },
          "metadata": {},
          "execution_count": 17
        }
      ]
    },
    {
      "cell_type": "code",
      "source": [
        ">>> x != y"
      ],
      "metadata": {
        "colab": {
          "base_uri": "https://localhost:8080/"
        },
        "id": "cX5jmjiZ7nbb",
        "outputId": "30dd9c7b-c173-407b-fcc4-64ee6204f272"
      },
      "execution_count": null,
      "outputs": [
        {
          "output_type": "execute_result",
          "data": {
            "text/plain": [
              "True"
            ]
          },
          "metadata": {},
          "execution_count": 18
        }
      ]
    },
    {
      "cell_type": "markdown",
      "source": [
        "만약 3000원 이상의 돈을 가지고 있으면 택시를 타고 가고, 그렇지 않으면 걸어가라."
      ],
      "metadata": {
        "id": "Jr_j2ali-VgQ"
      }
    },
    {
      "cell_type": "code",
      "source": [
        ">>> money = 2000\n",
        ">>> if money >= 3000:\n",
        "...     print(\"택시를 타고 가라\")\n",
        "... else:\n",
        "...     print(\"걸어가라\")\n",
        "..."
      ],
      "metadata": {
        "colab": {
          "base_uri": "https://localhost:8080/"
        },
        "id": "JKJWf0B-7nYy",
        "outputId": "de7f36e0-d47e-4b2d-a4d2-915e5e21a463"
      },
      "execution_count": null,
      "outputs": [
        {
          "output_type": "stream",
          "name": "stdout",
          "text": [
            "걸어가라\n"
          ]
        }
      ]
    },
    {
      "cell_type": "markdown",
      "source": [
        "\n",
        "연산자\t설명\n",
        "\n",
        "\n",
        "x or y\t: x와 y 둘 중 하나만 참이어도 참이다.\n",
        "\n",
        "x and y\t: x와 y 모두 참이어야 참이다.\n",
        "\n",
        "not x\t: x가 거짓이면 참이다."
      ],
      "metadata": {
        "id": "74m5tIsl-edZ"
      }
    },
    {
      "cell_type": "code",
      "source": [
        "#돈이 3000원 이상 있거나 카드가 있다면 택시를 타고 가고, 그렇지 않으면 걸어가라.\n",
        ">>> money = 2000\n",
        ">>> card = True\n",
        ">>> if money >= 3000 or card:\n",
        "...     print(\"택시를 타고 가라\")\n",
        "... else:\n",
        "...     print(\"걸어가라\")\n",
        "..."
      ],
      "metadata": {
        "colab": {
          "base_uri": "https://localhost:8080/"
        },
        "id": "u2Wl9fFR7nSi",
        "outputId": "cfd8ddcb-6c75-4ef7-a2dd-59fec3743e01"
      },
      "execution_count": null,
      "outputs": [
        {
          "output_type": "stream",
          "name": "stdout",
          "text": [
            "택시를 타고 가라\n"
          ]
        }
      ]
    },
    {
      "cell_type": "markdown",
      "source": [
        "파이썬은 다른 프로그래밍 언어에서 쉽게 볼 수 없는 재미있는 조건문도 제공한다. 바로 다음과 같은 것들이다.\n",
        "\n",
        "\n",
        "in\tnot in\n",
        "\n",
        "x in 리스트\t: x not in 리스트\n",
        "\n",
        "x in 튜플\t: x not in 튜플\n",
        "\n",
        "x in 문자열\t: x not in 문자열\n"
      ],
      "metadata": {
        "id": "j-Zew2MmBuuW"
      }
    },
    {
      "cell_type": "code",
      "source": [
        ">>> 1 in [1, 2, 3]"
      ],
      "metadata": {
        "colab": {
          "base_uri": "https://localhost:8080/"
        },
        "id": "GeFSNOH77nQS",
        "outputId": "3825425e-15e9-4152-c735-a6c1ffbe6eb1"
      },
      "execution_count": null,
      "outputs": [
        {
          "output_type": "execute_result",
          "data": {
            "text/plain": [
              "True"
            ]
          },
          "metadata": {},
          "execution_count": 24
        }
      ]
    },
    {
      "cell_type": "code",
      "source": [
        ">>> 'a' in ('a', 'b', 'c')"
      ],
      "metadata": {
        "colab": {
          "base_uri": "https://localhost:8080/"
        },
        "id": "cvcrzQGM7nJK",
        "outputId": "9b37967d-bd74-41d4-a1f9-a6201f1e9b28"
      },
      "execution_count": null,
      "outputs": [
        {
          "output_type": "execute_result",
          "data": {
            "text/plain": [
              "True"
            ]
          },
          "metadata": {},
          "execution_count": 26
        }
      ]
    },
    {
      "cell_type": "code",
      "source": [
        ">>> 'j' not in 'python'"
      ],
      "metadata": {
        "colab": {
          "base_uri": "https://localhost:8080/"
        },
        "id": "hbrtZZbfCBEy",
        "outputId": "2229518b-28d0-4c69-cafe-997bb30f35c4"
      },
      "execution_count": null,
      "outputs": [
        {
          "output_type": "execute_result",
          "data": {
            "text/plain": [
              "True"
            ]
          },
          "metadata": {},
          "execution_count": 27
        }
      ]
    },
    {
      "cell_type": "code",
      "source": [
        ">>> pocket = ['paper', 'cellphone', 'money']\n",
        ">>> if 'money' in pocket:\n",
        "...     print(\"택시를 타고 가라\")\n",
        "... else:\n",
        "...     print(\"걸어가라\")\n",
        "..."
      ],
      "metadata": {
        "colab": {
          "base_uri": "https://localhost:8080/"
        },
        "id": "isxeejreCBCm",
        "outputId": "2f5286ca-7cc3-469b-baeb-edda726adb03"
      },
      "execution_count": null,
      "outputs": [
        {
          "output_type": "stream",
          "name": "stdout",
          "text": [
            "택시를 타고 가라\n"
          ]
        }
      ]
    },
    {
      "cell_type": "markdown",
      "source": [
        "조건문에서 아무 일도 하지 않게 설정하고 싶다면?\n",
        "\n",
        "주머니에 돈이 있으면 가만히 있고, 주머니에 돈이 없으면 카드를 꺼내라.\n",
        "\n",
        "이럴 때 사용하는 것이 바로 pass이다.\n",
        " 위 예를 pass를 적용해서 구현해 보자.\n"
      ],
      "metadata": {
        "id": "i2IeLJFkC64t"
      }
    },
    {
      "cell_type": "code",
      "source": [
        "\n",
        ">>> pocket = ['paper', 'money', 'cellphone']\n",
        ">>> if 'money' in pocket:\n",
        "...     pass\n",
        "... else:\n",
        "...     print(\"카드를 꺼내라\")\n",
        "..."
      ],
      "metadata": {
        "id": "FO8ri6euCBAH"
      },
      "execution_count": null,
      "outputs": []
    },
    {
      "cell_type": "markdown",
      "source": [
        "주머니에 돈이 있으면 택시를 타고 가고, 주머니에 돈은 없지만 카드가 있으면 택시를 타고 가고, 돈도 없고 카드도 없으면 걸어가라.\n",
        "\n",
        "위 예에 elif를 사용하면 다음과 같이 바꿀 수 있다."
      ],
      "metadata": {
        "id": "M-UJ0vrkDHlG"
      }
    },
    {
      "cell_type": "code",
      "source": [
        ">>> pocket = ['paper', 'cellphone']\n",
        ">>> card = True\n",
        ">>> if 'money' in pocket:\n",
        "...      print(\"택시를 타고가라\")\n",
        "... elif card:\n",
        "...      print(\"택시를 타고가라\")\n",
        "... else:\n",
        "...      print(\"걸어가라\")\n",
        "..."
      ],
      "metadata": {
        "colab": {
          "base_uri": "https://localhost:8080/"
        },
        "id": "o7gU8hMQCA9u",
        "outputId": "664d71e0-f28e-4e0f-da9c-605b09696ae7"
      },
      "execution_count": null,
      "outputs": [
        {
          "output_type": "stream",
          "name": "stdout",
          "text": [
            "택시를 타고가라\n"
          ]
        }
      ]
    },
    {
      "cell_type": "markdown",
      "source": [
        "즉, elif는 이전 조건문이 거짓일 때 수행된다.\n",
        "\n",
        "if, elif, else를 모두 사용할 때 기본 구조는 다음과 같다.\n",
        "\n",
        "\n",
        "if 조건문:\n",
        "\n",
        "    수행할_문장1\n",
        "    수행할_문장2\n",
        "    ...\n",
        "elif 조건문:\n",
        "\n",
        "    수행할_문장1\n",
        "    수행할_문장2\n",
        "    ...\n",
        "elif 조건문:\n",
        "\n",
        "    수행할_문장1\n",
        "    수행할_문장2\n",
        "    ...\n",
        "\n",
        "else:\n",
        "\n",
        "   수행할_문장1\n",
        "   수행할_문장2\n",
        "   ..."
      ],
      "metadata": {
        "id": "TIgjXqV3ELZU"
      }
    },
    {
      "cell_type": "markdown",
      "source": [
        "elif는 개수에 제한 없이 사용할 수 있다."
      ],
      "metadata": {
        "id": "Tk5k_CPaEw9E"
      }
    },
    {
      "cell_type": "markdown",
      "source": [
        "if 문을 한 줄로 작성하기\n",
        "\n",
        "앞의 pass를 사용한 예를 보면 if 문 다음에 수행할 문장이 한 줄이고 else 문 다음에 수행할 문장도 한 줄밖에 되지 않는다."
      ],
      "metadata": {
        "id": "OwiWWvlCEw6E"
      }
    },
    {
      "cell_type": "code",
      "source": [
        ">>> if 'money' in pocket:\n",
        "...     pass\n",
        "... else:\n",
        "...     print(\"카드를 꺼내라\")\n",
        "..."
      ],
      "metadata": {
        "colab": {
          "base_uri": "https://localhost:8080/"
        },
        "id": "QncDqyBzCA7e",
        "outputId": "9f3db5ff-dd82-4733-d6ba-8eed7c82ea92"
      },
      "execution_count": null,
      "outputs": [
        {
          "output_type": "stream",
          "name": "stdout",
          "text": [
            "카드를 꺼내라\n"
          ]
        }
      ]
    },
    {
      "cell_type": "code",
      "source": [
        ">>> pocket = ['paper', 'money', 'cellphone']\n",
        ">>> if 'money' in pocket: pass\n",
        "... else: print(\"카드를 꺼내라\")\n",
        "...\n",
        "#if 문 다음에 수행할 문장을 콜론(:) 뒤에 바로 적었다. else 문 역시 마찬가지이다."
      ],
      "metadata": {
        "id": "7iIUXZt_CAzm"
      },
      "execution_count": null,
      "outputs": []
    },
    {
      "cell_type": "code",
      "source": [
        "#파이썬에서는 수학에서처럼 비교 연산자를 연쇄적으로 사용할 수 있다.\n",
        ">>> x = 5\n",
        ">>> 1 < x < 10    # x가 1보다 크고 10보다 작은가?"
      ],
      "metadata": {
        "colab": {
          "base_uri": "https://localhost:8080/"
        },
        "id": "R7KseC6zMC0Y",
        "outputId": "a7d6af60-e6dd-4906-bd31-bc6f311501bd"
      },
      "execution_count": null,
      "outputs": [
        {
          "output_type": "execute_result",
          "data": {
            "text/plain": [
              "True"
            ]
          },
          "metadata": {},
          "execution_count": 37
        }
      ]
    },
    {
      "cell_type": "code",
      "source": [
        ">>> 10 <= x <= 20  # x가 10 이상 20 이하인가?"
      ],
      "metadata": {
        "colab": {
          "base_uri": "https://localhost:8080/"
        },
        "id": "7lsL7inuMFYI",
        "outputId": "39f3beae-8bec-43f4-ec39-767242d95978"
      },
      "execution_count": null,
      "outputs": [
        {
          "output_type": "execute_result",
          "data": {
            "text/plain": [
              "False"
            ]
          },
          "metadata": {},
          "execution_count": 38
        }
      ]
    },
    {
      "cell_type": "code",
      "source": [
        ">>> x = 5\n",
        ">>> (1 < x) and (x < 10)\n",
        ">>> (10 <= x) and (x <= 20)\n",
        "#위에꺼랑 이거랑 같음"
      ],
      "metadata": {
        "colab": {
          "base_uri": "https://localhost:8080/"
        },
        "id": "Ua2hst2BMFV4",
        "outputId": "56ab060b-9755-4718-fc7b-002c37bfbb29"
      },
      "execution_count": null,
      "outputs": [
        {
          "output_type": "execute_result",
          "data": {
            "text/plain": [
              "False"
            ]
          },
          "metadata": {},
          "execution_count": 39
        }
      ]
    },
    {
      "cell_type": "code",
      "source": [
        ">>> score = 85\n",
        ">>> if score >= 60:\n",
        "...     result = \"합격\"\n",
        "... else:\n",
        "...     result = \"불합격\"\n",
        "...\n",
        ">>> print(result)"
      ],
      "metadata": {
        "colab": {
          "base_uri": "https://localhost:8080/"
        },
        "id": "5afQGdkMMFTo",
        "outputId": "47224d09-042b-44da-9ef2-695e6eb6188c"
      },
      "execution_count": null,
      "outputs": [
        {
          "output_type": "stream",
          "name": "stdout",
          "text": [
            "합격\n"
          ]
        }
      ]
    },
    {
      "cell_type": "code",
      "source": [
        "#이런 간단한 조건 분기는 파이썬의 조건부 표현식을 사용하면 한 줄로 표현할 수 있다.\n",
        ">>> score = 85\n",
        ">>> result = \"합격\" if score >= 60 else \"불합격\"#결론먼저 쓰고 if를 써라 그리고 else를..\n",
        ">>> print(result)"
      ],
      "metadata": {
        "colab": {
          "base_uri": "https://localhost:8080/"
        },
        "id": "RTtl1LMWMFRY",
        "outputId": "5fc141ec-4f4b-48ac-8f10-27608d4364dd"
      },
      "execution_count": null,
      "outputs": [
        {
          "output_type": "stream",
          "name": "stdout",
          "text": [
            "합격\n"
          ]
        }
      ]
    },
    {
      "cell_type": "markdown",
      "source": [
        "조건부 표현식의 기본 형태는 다음과 같다.\n",
        "\n",
        "변수 = 참일_때_값 if 조건 else 거짓일_때_값"
      ],
      "metadata": {
        "id": "eZ9ONBezMhwY"
      }
    },
    {
      "cell_type": "code",
      "source": [
        ">>> age = 19\n",
        ">>> status = \"성인\" if age >= 18 else \"미성년\"\n",
        ">>> print(status)"
      ],
      "metadata": {
        "colab": {
          "base_uri": "https://localhost:8080/"
        },
        "id": "D5-Brn2lMFPI",
        "outputId": "0367d7d1-3057-4f37-807a-8af3cbe32346"
      },
      "execution_count": null,
      "outputs": [
        {
          "output_type": "stream",
          "name": "stdout",
          "text": [
            "성인\n"
          ]
        }
      ]
    },
    {
      "cell_type": "code",
      "source": [
        ">>> temperature = 25\n",
        ">>> weather = \"따뜻함\" if temperature > 20 else \"추움\"\n",
        ">>> print(weather)"
      ],
      "metadata": {
        "colab": {
          "base_uri": "https://localhost:8080/"
        },
        "id": "3in7-CHDMFMo",
        "outputId": "50673cc1-232d-4231-869f-6543d4c1297b"
      },
      "execution_count": null,
      "outputs": [
        {
          "output_type": "stream",
          "name": "stdout",
          "text": [
            "따뜻함\n"
          ]
        }
      ]
    },
    {
      "cell_type": "code",
      "source": [
        ">>> money = 1500\n",
        ">>> transportation = \"버스\" if money >= 1000 else \"도보\"\n",
        ">>> print(transportation)"
      ],
      "metadata": {
        "colab": {
          "base_uri": "https://localhost:8080/"
        },
        "id": "DUnptWZfMFJi",
        "outputId": "ca9f8f33-6873-4e62-f190-20c73812972d"
      },
      "execution_count": null,
      "outputs": [
        {
          "output_type": "stream",
          "name": "stdout",
          "text": [
            "버스\n"
          ]
        }
      ]
    },
    {
      "cell_type": "code",
      "source": [
        "#너무 복잡한 조건에는 지양할것"
      ],
      "metadata": {
        "id": "Y-NJ_YgmNzKH"
      },
      "execution_count": null,
      "outputs": []
    },
    {
      "cell_type": "markdown",
      "source": [
        "# **While문 학습하기**\n"
      ],
      "metadata": {
        "id": "b8PvpX40N53n"
      }
    },
    {
      "cell_type": "markdown",
      "source": [
        "다음은 while 문의 기본 구조이다.\n",
        "\n",
        "\n",
        "while 조건문:\n",
        "\n",
        "    수행할_문장1\n",
        "    수행할_문장2\n",
        "    수행할_문장3\n",
        "    ..."
      ],
      "metadata": {
        "id": "Dylz4JODOA-X"
      }
    },
    {
      "cell_type": "code",
      "source": [
        ">>> treeHit = 0\n",
        ">>> while treeHit < 10:\n",
        "...     treeHit = treeHit +1\n",
        "...     print(\"나무를 %d번 찍었습니다.\" % treeHit)\n",
        "...     if treeHit == 10:\n",
        "...         print(\"나무 넘어갑니다.\")\n",
        "..."
      ],
      "metadata": {
        "colab": {
          "base_uri": "https://localhost:8080/"
        },
        "id": "SsTIpFrSOFwH",
        "outputId": "eb699986-a0b0-4aaf-a224-9d43545066f7"
      },
      "execution_count": null,
      "outputs": [
        {
          "output_type": "stream",
          "name": "stdout",
          "text": [
            "나무를 1번 찍었습니다.\n",
            "나무를 2번 찍었습니다.\n",
            "나무를 3번 찍었습니다.\n",
            "나무를 4번 찍었습니다.\n",
            "나무를 5번 찍었습니다.\n",
            "나무를 6번 찍었습니다.\n",
            "나무를 7번 찍었습니다.\n",
            "나무를 8번 찍었습니다.\n",
            "나무를 9번 찍었습니다.\n",
            "나무를 10번 찍었습니다.\n",
            "나무 넘어갑니다.\n"
          ]
        }
      ]
    },
    {
      "cell_type": "markdown",
      "source": [
        " 여러 가지 선택지 중 하나를 선택해서 입력받는 예제"
      ],
      "metadata": {
        "id": "_qXBYZiPO41P"
      }
    },
    {
      "cell_type": "code",
      "source": [
        "prompt = \"\"\"\n",
        "1. Add\n",
        "2. Del\n",
        "3. List\n",
        "4. Quit\n",
        "\n",
        "Enter number: \"\"\"\n",
        "\n",
        "number = 0\n",
        "while number != 4:\n",
        "    print(prompt)\n",
        "    number = int(input())"
      ],
      "metadata": {
        "colab": {
          "base_uri": "https://localhost:8080/"
        },
        "id": "qqaZD4e8RlyB",
        "outputId": "de9d7cf7-aeeb-45f1-f0a9-010f260ec126"
      },
      "execution_count": null,
      "outputs": [
        {
          "name": "stdout",
          "output_type": "stream",
          "text": [
            "\n",
            "1. Add\n",
            "2. Del\n",
            "3. List\n",
            "4. Quit\n",
            "\n",
            "Enter number: \n",
            "1\n",
            "\n",
            "1. Add\n",
            "2. Del\n",
            "3. List\n",
            "4. Quit\n",
            "\n",
            "Enter number: \n",
            "2\n",
            "\n",
            "1. Add\n",
            "2. Del\n",
            "3. List\n",
            "4. Quit\n",
            "\n",
            "Enter number: \n",
            "3\n",
            "\n",
            "1. Add\n",
            "2. Del\n",
            "3. List\n",
            "4. Quit\n",
            "\n",
            "Enter number: \n",
            "4\n"
          ]
        }
      ]
    },
    {
      "cell_type": "markdown",
      "source": [
        "강제탈출 break문"
      ],
      "metadata": {
        "id": "pvO-eRUYUCKD"
      }
    },
    {
      "cell_type": "code",
      "source": [
        ">>> coffee = 10\n",
        ">>> money = 300\n",
        ">>> while money:\n",
        "...     print(\"돈을 받았으니 커피를 줍니다.\")\n",
        "...     coffee = coffee -1\n",
        "...     print(\"남은 커피의 양은 %d개입니다.\" % coffee)\n",
        "...     if coffee == 0:\n",
        "...         print(\"커피가 다 떨어졌습니다. 판매를 중지합니다.\")\n",
        "...         break"
      ],
      "metadata": {
        "colab": {
          "base_uri": "https://localhost:8080/"
        },
        "id": "X9AS9uTcUGJD",
        "outputId": "0b24e34b-295a-4bdf-c7a6-ecf936269436"
      },
      "execution_count": null,
      "outputs": [
        {
          "output_type": "stream",
          "name": "stdout",
          "text": [
            "돈을 받았으니 커피를 줍니다.\n",
            "남은 커피의 양은 9개입니다.\n",
            "돈을 받았으니 커피를 줍니다.\n",
            "남은 커피의 양은 8개입니다.\n",
            "돈을 받았으니 커피를 줍니다.\n",
            "남은 커피의 양은 7개입니다.\n",
            "돈을 받았으니 커피를 줍니다.\n",
            "남은 커피의 양은 6개입니다.\n",
            "돈을 받았으니 커피를 줍니다.\n",
            "남은 커피의 양은 5개입니다.\n",
            "돈을 받았으니 커피를 줍니다.\n",
            "남은 커피의 양은 4개입니다.\n",
            "돈을 받았으니 커피를 줍니다.\n",
            "남은 커피의 양은 3개입니다.\n",
            "돈을 받았으니 커피를 줍니다.\n",
            "남은 커피의 양은 2개입니다.\n",
            "돈을 받았으니 커피를 줍니다.\n",
            "남은 커피의 양은 1개입니다.\n",
            "돈을 받았으니 커피를 줍니다.\n",
            "남은 커피의 양은 0개입니다.\n",
            "커피가 다 떨어졌습니다. 판매를 중지합니다.\n"
          ]
        }
      ]
    },
    {
      "cell_type": "code",
      "source": [
        "# coffee.py\n",
        "coffee = 10\n",
        "while True:\n",
        "    money = int(input(\"돈을 넣어 주세요: \"))\n",
        "    if money == 300:\n",
        "        print(\"커피를 줍니다.\")\n",
        "        coffee = coffee -1\n",
        "    elif money > 300:\n",
        "        print(\"거스름돈 %d를 주고 커피를 줍니다.\" % (money -300))\n",
        "        coffee = coffee -1\n",
        "    else:\n",
        "        print(\"돈을 다시 돌려주고 커피를 주지 않습니다.\")\n",
        "        print(\"남은 커피의 양은 %d개 입니다.\" % coffee)\n",
        "    if coffee == 0:\n",
        "        print(\"커피가 다 떨어졌습니다. 판매를 중지 합니다.\")\n",
        "        break0\n",
        "        30"
      ],
      "metadata": {
        "colab": {
          "base_uri": "https://localhost:8080/"
        },
        "id": "dP4YtUQMUPza",
        "outputId": "e25f650b-12c4-4226-d7d5-ae7b3caab3e4"
      },
      "execution_count": null,
      "outputs": [
        {
          "output_type": "stream",
          "name": "stdout",
          "text": [
            "돈을 넣어 주세요: 300\n",
            "커피를 줍니다.\n",
            "돈을 넣어 주세요: 300\n",
            "커피를 줍니다.\n",
            "돈을 넣어 주세요: 300\n",
            "커피를 줍니다.\n",
            "돈을 넣어 주세요: 30\n",
            "돈을 다시 돌려주고 커피를 주지 않습니다.\n",
            "남은 커피의 양은 7개 입니다.\n",
            "돈을 넣어 주세요: 3000\n",
            "거스름돈 2700를 주고 커피를 줍니다.\n",
            "돈을 넣어 주세요: 300\n",
            "커피를 줍니다.\n",
            "돈을 넣어 주세요: 300\n",
            "커피를 줍니다.\n",
            "돈을 넣어 주세요: 300\n",
            "커피를 줍니다.\n",
            "돈을 넣어 주세요: 300\n",
            "커피를 줍니다.\n",
            "돈을 넣어 주세요: 3000\n",
            "거스름돈 2700를 주고 커피를 줍니다.\n",
            "돈을 넣어 주세요: 300\n",
            "커피를 줍니다.\n",
            "커피가 다 떨어졌습니다. 판매를 중지 합니다.\n"
          ]
        }
      ]
    },
    {
      "cell_type": "markdown",
      "source": [
        "while 문을 빠져나가지 않고 while 문의 맨 처음(조건문)으로 다시 돌아가게 만들고 싶은 경우가 생기게 된다.\n",
        "\n",
        "이때 사용하는 것이 바로 continue 문이다."
      ],
      "metadata": {
        "id": "8BTXBx5pVRaC"
      }
    },
    {
      "cell_type": "code",
      "source": [
        ">>> a = 0\n",
        ">>> while a < 10:\n",
        "...     a = a + 1\n",
        "...     if a % 2 == 0: continue#컨티뉴로 짝수가 되면 출력하지 않고 바로 while문 처음으로 되돌아감.\n",
        "...     print(a)\n",
        "...\n"
      ],
      "metadata": {
        "colab": {
          "base_uri": "https://localhost:8080/"
        },
        "id": "pWzEhmcZVS9i",
        "outputId": "e25ac020-54c8-4fad-bebf-6378d975e87a"
      },
      "execution_count": null,
      "outputs": [
        {
          "output_type": "stream",
          "name": "stdout",
          "text": [
            "1\n",
            "3\n",
            "5\n",
            "7\n",
            "9\n"
          ]
        }
      ]
    },
    {
      "cell_type": "markdown",
      "source": [
        "무한루프\n",
        "\n",
        "while True:\n",
        "\n",
        "    수행할_문장1\n",
        "    수행할_문장2\n",
        "    ..."
      ],
      "metadata": {
        "id": "cdPrv_qTVnpS"
      }
    },
    {
      "cell_type": "markdown",
      "source": [
        "파이썬의 while 문에는 else 절을 사용할 수 있다.\n",
        "\n",
        "while-else 문은 while 문이 정상적으로 종료되었을 때(break로 빠져나가지 않았을 때) else 절이 실행된다."
      ],
      "metadata": {
        "id": "XMf5_KIGV53K"
      }
    },
    {
      "cell_type": "code",
      "source": [
        ">>> count = 0\n",
        ">>> while count < 3:\n",
        "...     print(f\"카운트: {count}\")\n",
        "...     count += 1\n",
        "... else:\n",
        "...     print(\"while 문이 정상 종료되었습니다.\")\n",
        "..."
      ],
      "metadata": {
        "colab": {
          "base_uri": "https://localhost:8080/"
        },
        "id": "HYZwv8OHV3OT",
        "outputId": "33583d41-9e86-4c34-92bb-f51f0610c148"
      },
      "execution_count": null,
      "outputs": [
        {
          "output_type": "stream",
          "name": "stdout",
          "text": [
            "카운트: 0\n",
            "카운트: 1\n",
            "카운트: 2\n",
            "while 문이 정상 종료되었습니다.\n"
          ]
        }
      ]
    },
    {
      "cell_type": "markdown",
      "source": [
        "하지만 break 문으로 while 문을 빠져나가면 else 절은 실행되지 않는다."
      ],
      "metadata": {
        "id": "BGG-iHvnWB7a"
      }
    },
    {
      "cell_type": "code",
      "source": [
        ">>> count = 0\n",
        ">>> while count < 5:\n",
        "...     if count == 2:\n",
        "...         break\n",
        "...     print(f\"카운트: {count}\")\n",
        "...     count += 1\n",
        "... else:\n",
        "...     print(\"while 문이 정상 종료되었습니다.\")\n",
        "..."
      ],
      "metadata": {
        "colab": {
          "base_uri": "https://localhost:8080/"
        },
        "id": "7CvzltA7WDI6",
        "outputId": "5d171e00-18f2-4a12-933b-503976b30f80"
      },
      "execution_count": null,
      "outputs": [
        {
          "output_type": "stream",
          "name": "stdout",
          "text": [
            "카운트: 0\n",
            "카운트: 1\n"
          ]
        }
      ]
    },
    {
      "cell_type": "markdown",
      "source": [
        "while 문 안에 또 다른 while 문을 사용할 수 있다. 이를 중첩된 while 문이라고 한다."
      ],
      "metadata": {
        "id": "31YUew7rWILC"
      }
    },
    {
      "cell_type": "code",
      "source": [
        ">>> i = 1\n",
        ">>> while i <= 3:\n",
        "...     j = 1\n",
        "...     while j <= 3:\n",
        "...         print(f\"i={i}, j={j}\")\n",
        "...         j += 1\n",
        "...     i += 1\n",
        "..."
      ],
      "metadata": {
        "colab": {
          "base_uri": "https://localhost:8080/"
        },
        "id": "M9JXqZxaWJSJ",
        "outputId": "3665508e-67be-4670-8038-7cec70d2a5a6"
      },
      "execution_count": null,
      "outputs": [
        {
          "output_type": "stream",
          "name": "stdout",
          "text": [
            "i=1, j=1\n",
            "i=1, j=2\n",
            "i=1, j=3\n",
            "i=2, j=1\n",
            "i=2, j=2\n",
            "i=2, j=3\n",
            "i=3, j=1\n",
            "i=3, j=2\n",
            "i=3, j=3\n"
          ]
        }
      ]
    },
    {
      "cell_type": "markdown",
      "source": [
        "중첩된 while 문에서 break나 continue를 사용할 때는 가장 가까운 while 문에만 영향을 준다는 점에 주의해야 한다."
      ],
      "metadata": {
        "id": "I_HQD7O0WYZJ"
      }
    },
    {
      "cell_type": "markdown",
      "source": [
        "# ***For문 학습하기***"
      ],
      "metadata": {
        "id": "bheJ0Qr-WZyi"
      }
    },
    {
      "cell_type": "markdown",
      "source": [
        "for 문의 기본 구조는 다음과 같다.\n",
        "\n",
        "\n",
        "for 변수 in 리스트(또는 튜플, 문자열):\n",
        "\n",
        "    수행할_문장1\n",
        "    수행할_문장2\n",
        "    ..."
      ],
      "metadata": {
        "id": "lic5KXPVWtSq"
      }
    },
    {
      "cell_type": "code",
      "source": [
        ">>> test_list = ['one', 'two', 'three']\n",
        ">>> for i in test_list:\n",
        "...     print(i)\n",
        "...\n",
        "#리스트의 첫 번째 요소인 'one'이 먼저 i 변수에 대입된 후 print(i) 문장을 수행한다.\n",
        "#다음에 두 번째 요소 'two'가 i 변수에 대입된 후 print(i) 문장을 수행하고..."
      ],
      "metadata": {
        "colab": {
          "base_uri": "https://localhost:8080/"
        },
        "id": "e5QOrcruXOYS",
        "outputId": "28c25aa7-feb8-4b49-d72a-b10363a0c33f"
      },
      "execution_count": null,
      "outputs": [
        {
          "output_type": "stream",
          "name": "stdout",
          "text": [
            "one\n",
            "two\n",
            "three\n"
          ]
        }
      ]
    },
    {
      "cell_type": "code",
      "source": [
        ">>> a = [(1,2), (3,4), (5,6)]\n",
        ">>> for (first, last) in a:\n",
        "...     print(first + last)\n",
        "...\n",
        "#위 예는 a 리스트의 요솟값이 튜플이기 때문에 각각의 요소가 자동으로 (first, last) 변수에 대입된다."
      ],
      "metadata": {
        "colab": {
          "base_uri": "https://localhost:8080/"
        },
        "id": "kOxiJFgHXWwB",
        "outputId": "98ea8b6f-68bc-44a4-eb64-849a43e1a136"
      },
      "execution_count": null,
      "outputs": [
        {
          "output_type": "stream",
          "name": "stdout",
          "text": [
            "3\n",
            "7\n",
            "11\n"
          ]
        }
      ]
    },
    {
      "cell_type": "markdown",
      "source": [
        "총 5명의 학생이 시험을 보았는데 시험 점수가 60점 이상이면 합격이고 그렇지 않으면 불합격이다. 합격인지, 불합격인지 결과를 보여 주시오."
      ],
      "metadata": {
        "id": "fI3oZNalXneq"
      }
    },
    {
      "cell_type": "code",
      "source": [
        "marks = [90, 25, 67, 45, 80]\n"
      ],
      "metadata": {
        "id": "YPd_CMHVXq5B"
      },
      "execution_count": null,
      "outputs": []
    },
    {
      "cell_type": "code",
      "source": [
        "# marks1.py\n",
        "marks = [90, 25, 67, 45, 80]   # 학생들의 시험 점수 리스트\n",
        "\n",
        "number = 0   # 학생에게 붙여 줄 번호\n",
        "for mark in marks:   # 90, 25, 67, 45, 80을 순서대로 mark에 대입\n",
        "    number = number +1\n",
        "    if mark >= 60:\n",
        "        print(\"%d번 학생은 합격입니다.\" % number)\n",
        "    else:\n",
        "        print(\"%d번 학생은 불합격입니다.\" % number)"
      ],
      "metadata": {
        "colab": {
          "base_uri": "https://localhost:8080/"
        },
        "id": "0e2hL7PwXt56",
        "outputId": "04d48273-f031-40af-b047-a07c5e0d3975"
      },
      "execution_count": null,
      "outputs": [
        {
          "output_type": "stream",
          "name": "stdout",
          "text": [
            "1번 학생은 합격입니다.\n",
            "2번 학생은 불합격입니다.\n",
            "3번 학생은 합격입니다.\n",
            "4번 학생은 불합격입니다.\n",
            "5번 학생은 합격입니다.\n"
          ]
        }
      ]
    },
    {
      "cell_type": "markdown",
      "source": [
        " for 문 안의 문장을 수행하는 도중 continue 문을 만나면 for 문의 처음으로 돌아가게 된다."
      ],
      "metadata": {
        "id": "4YgjnTq2ZKa4"
      }
    },
    {
      "cell_type": "code",
      "source": [
        "# marks2.py\n",
        "marks = [90, 25, 67, 45, 80]\n",
        "\n",
        "number = 0\n",
        "for mark in marks:\n",
        "    number = number +1\n",
        "    if mark < 60:\n",
        "        continue\n",
        "    print(\"%d번 학생 축하합니다. 합격입니다. \" % number)"
      ],
      "metadata": {
        "colab": {
          "base_uri": "https://localhost:8080/"
        },
        "id": "PoosT2CsXt3h",
        "outputId": "aee3a54d-426e-46e8-a45b-76969dcb4338"
      },
      "execution_count": null,
      "outputs": [
        {
          "output_type": "stream",
          "name": "stdout",
          "text": [
            "1번 학생 축하합니다. 합격입니다. \n",
            "3번 학생 축하합니다. 합격입니다. \n",
            "5번 학생 축하합니다. 합격입니다. \n"
          ]
        }
      ]
    },
    {
      "cell_type": "markdown",
      "source": [
        "for 문은 숫자 리스트를 자동으로 만들어 주는 range 함수와 함께 사용하는 경우가 많다. 다음은 range 함수의 간단한 사용법이다."
      ],
      "metadata": {
        "id": "Nsu0r7cEZ6QX"
      }
    },
    {
      "cell_type": "code",
      "source": [
        ">>> a = range(10)\n",
        ">>> a"
      ],
      "metadata": {
        "colab": {
          "base_uri": "https://localhost:8080/"
        },
        "id": "T1zMOae6Xt1J",
        "outputId": "b0168f98-61dc-4f42-b713-09a127d01cc1"
      },
      "execution_count": null,
      "outputs": [
        {
          "output_type": "execute_result",
          "data": {
            "text/plain": [
              "range(0, 10)"
            ]
          },
          "metadata": {},
          "execution_count": 90
        }
      ]
    },
    {
      "cell_type": "markdown",
      "source": [
        "시작 숫자와 끝 숫자를 지정하려면 range(시작_숫자, 끝_숫자) 형태를 사용하는데, 이때 끝 숫자는 포함되지 않는다."
      ],
      "metadata": {
        "id": "PRFRDhL1bIFg"
      }
    },
    {
      "cell_type": "code",
      "source": [
        ">>> a = range(1, 11)#11포함된거아님?\n",
        ">>> a"
      ],
      "metadata": {
        "id": "mhCJn4DvXty6",
        "colab": {
          "base_uri": "https://localhost:8080/"
        },
        "outputId": "9c8021cf-929f-40dc-c756-45a65dce3cb9"
      },
      "execution_count": 92,
      "outputs": [
        {
          "output_type": "execute_result",
          "data": {
            "text/plain": [
              "range(1, 11)"
            ]
          },
          "metadata": {},
          "execution_count": 92
        }
      ]
    },
    {
      "cell_type": "code",
      "source": [
        ">>> add = 0\n",
        ">>> for i in range(1, 11):\n",
        "...     add = add + i\n",
        "...\n",
        ">>> print(add)"
      ],
      "metadata": {
        "id": "iVQvgfZXXtwR",
        "colab": {
          "base_uri": "https://localhost:8080/"
        },
        "outputId": "46c98f0b-1c81-468d-c6a5-32acdef68e97"
      },
      "execution_count": 93,
      "outputs": [
        {
          "output_type": "stream",
          "name": "stdout",
          "text": [
            "55\n"
          ]
        }
      ]
    },
    {
      "cell_type": "code",
      "source": [
        "# marks3.py\n",
        "marks = [90, 25, 67, 45, 80]\n",
        "for number in range(len(marks)):\n",
        "    if marks[number] < 60:\n",
        "        continue\n",
        "    print(\"%d번 학생 축하합니다. 합격입니다.\" % (number+1))\n",
        "\n",
        "    #len는 리스트 안의 요소 개수를 리턴하는 함수이다.\n",
        "    #따라서 len(marks)는 5, range(len(marks))는 range(5)가 될 것이다.\n",
        "    #number 변수에는 차례로 0부터 4까지의 숫자가 대입되고 marks[number]는 차례대로 90, 25, 67, 45, 80 값을 가지게 된다.\n",
        "    #결과는 marks2.py 예제와 동일하다."
      ],
      "metadata": {
        "id": "gQkr_Ak6Xtt0",
        "colab": {
          "base_uri": "https://localhost:8080/"
        },
        "outputId": "11220199-42e2-439f-d0f9-b29a30ef9b4f"
      },
      "execution_count": 94,
      "outputs": [
        {
          "output_type": "stream",
          "name": "stdout",
          "text": [
            "1번 학생 축하합니다. 합격입니다.\n",
            "3번 학생 축하합니다. 합격입니다.\n",
            "5번 학생 축하합니다. 합격입니다.\n"
          ]
        }
      ]
    },
    {
      "cell_type": "code",
      "source": [
        ">>> for i in range(2,10):        # 1번 for문2~9\n",
        "...     for j in range(1, 10):   # 2번 for문1~9\n",
        "...         print(i*j, end=\" \")\n",
        "...     print('')"
      ],
      "metadata": {
        "id": "NiCZw7jjXtqp",
        "colab": {
          "base_uri": "https://localhost:8080/"
        },
        "outputId": "aacb923a-b86f-4d5a-d315-237726e59feb"
      },
      "execution_count": 95,
      "outputs": [
        {
          "output_type": "stream",
          "name": "stdout",
          "text": [
            "2 4 6 8 10 12 14 16 18 \n",
            "3 6 9 12 15 18 21 24 27 \n",
            "4 8 12 16 20 24 28 32 36 \n",
            "5 10 15 20 25 30 35 40 45 \n",
            "6 12 18 24 30 36 42 48 54 \n",
            "7 14 21 28 35 42 49 56 63 \n",
            "8 16 24 32 40 48 56 64 72 \n",
            "9 18 27 36 45 54 63 72 81 \n"
          ]
        }
      ]
    },
    {
      "cell_type": "markdown",
      "source": [
        "리스트 안에 for 문을 포함하는 리스트 컴프리헨션(list comprehension)을 사용하면 좀 더 편리하고 직관적인 프로그램을 만들 수 있다."
      ],
      "metadata": {
        "id": "Evl9zcaptI4z"
      }
    },
    {
      "cell_type": "code",
      "source": [
        ">>> a = [1,2,3,4]\n",
        ">>> result = []\n",
        ">>> for num in a:\n",
        "...     result.append(num*3)\n",
        "...\n",
        ">>> print(result)"
      ],
      "metadata": {
        "id": "1y-q41ShXtnB",
        "colab": {
          "base_uri": "https://localhost:8080/"
        },
        "outputId": "521a7c34-169d-4ab4-d205-497a776d7d3c"
      },
      "execution_count": 96,
      "outputs": [
        {
          "output_type": "stream",
          "name": "stdout",
          "text": [
            "[3, 6, 9, 12]\n"
          ]
        }
      ]
    },
    {
      "cell_type": "markdown",
      "source": [
        "리스트 컴프리헨션을 사용한 경우"
      ],
      "metadata": {
        "id": "dGyvdlfttQ17"
      }
    },
    {
      "cell_type": "code",
      "source": [
        ">>> a = [1,2,3,4]\n",
        ">>> result = [num * 3 for num in a]\n",
        ">>> print(result)"
      ],
      "metadata": {
        "colab": {
          "base_uri": "https://localhost:8080/"
        },
        "id": "vBLgLKwktT3E",
        "outputId": "7b81a220-19a8-4773-b509-4da59d44dd6a"
      },
      "execution_count": 97,
      "outputs": [
        {
          "output_type": "stream",
          "name": "stdout",
          "text": [
            "[3, 6, 9, 12]\n"
          ]
        }
      ]
    },
    {
      "cell_type": "code",
      "source": [
        ">>> a = [1,2,3,4]\n",
        ">>> result = [num * 3 for num in a if num % 2 == 0]\n",
        ">>> print(result)\n",
        "#만약 [1, 2, 3, 4] 중에서 짝수에만 3을 곱하여 담고 싶다면 리스트 컴프리헨션 안에 ‘if 조건문’을 사용하면 된다."
      ],
      "metadata": {
        "colab": {
          "base_uri": "https://localhost:8080/"
        },
        "id": "E14W9SiC1vjR",
        "outputId": "cf51c6a4-616a-42b4-bf8b-dabf7cb065a8"
      },
      "execution_count": 99,
      "outputs": [
        {
          "output_type": "stream",
          "name": "stdout",
          "text": [
            "[6, 12]\n"
          ]
        }
      ]
    },
    {
      "cell_type": "markdown",
      "source": [
        "리스트 컴프리헨션의 문법은 다음과 같다. ‘if 조건문’ 부분은 앞의 예제에서 볼 수 있듯이 생략할 수 있다.\n",
        "\n",
        "[표현식 for 항목 in 반복_가능_객체 if 조건문]"
      ],
      "metadata": {
        "id": "G9oTHa4M15lm"
      }
    },
    {
      "cell_type": "markdown",
      "source": [
        "for 문을 여러 개 사용할 때의 문법은 다음과 같다.\n",
        "\n",
        "\n",
        "\n",
        "[표현식\n",
        "\n",
        "      for 항목1 in 반복_가능_객체1 if 조건문1\n",
        "      for 항목2 in 반복_가능_객체2 if 조건문2\n",
        "      ...\n",
        "\n",
        "      for 항목n in 반복_가능_객체n if 조건문n]"
      ],
      "metadata": {
        "id": "0dIo648920y2"
      }
    },
    {
      "cell_type": "code",
      "source": [
        ">>> result = [x*y for x in range(2,10)\n",
        "...               for y in range(1,10)]\n",
        ">>> print(result)"
      ],
      "metadata": {
        "colab": {
          "base_uri": "https://localhost:8080/"
        },
        "id": "sC0hGwJp16i-",
        "outputId": "6ba3fe9b-f9a0-4638-d856-977aee310605"
      },
      "execution_count": 100,
      "outputs": [
        {
          "output_type": "stream",
          "name": "stdout",
          "text": [
            "[2, 4, 6, 8, 10, 12, 14, 16, 18, 3, 6, 9, 12, 15, 18, 21, 24, 27, 4, 8, 12, 16, 20, 24, 28, 32, 36, 5, 10, 15, 20, 25, 30, 35, 40, 45, 6, 12, 18, 24, 30, 36, 42, 48, 54, 7, 14, 21, 28, 35, 42, 49, 56, 63, 8, 16, 24, 32, 40, 48, 56, 64, 72, 9, 18, 27, 36, 45, 54, 63, 72, 81]\n"
          ]
        }
      ]
    },
    {
      "cell_type": "markdown",
      "source": [
        "while 문에서와 마찬가지로 for 문에서도 break 문을 사용할 수 있다. break 문은 for 문을 강제로 빠져나가고 싶을 때 사용한다."
      ],
      "metadata": {
        "id": "lasu_fJC3KP1"
      }
    },
    {
      "cell_type": "code",
      "source": [
        ">>> for i in range(10):\n",
        "...     if i == 5:\n",
        "...         break\n",
        "...     print(i)\n",
        "..."
      ],
      "metadata": {
        "colab": {
          "base_uri": "https://localhost:8080/"
        },
        "id": "oxbaeuoZ3I_2",
        "outputId": "17c41fe6-6fcd-4001-e0e5-4d490a7cac6b"
      },
      "execution_count": 101,
      "outputs": [
        {
          "output_type": "stream",
          "name": "stdout",
          "text": [
            "0\n",
            "1\n",
            "2\n",
            "3\n",
            "4\n"
          ]
        }
      ]
    },
    {
      "cell_type": "markdown",
      "source": [
        "파이썬의 for 문에는 else 절을 사용할 수 있다. for-else 문은 for 문이 정상적으로 종료되었을 때(break로 빠져나가지 않았을 때) else 절이 실행된다."
      ],
      "metadata": {
        "id": "-tmnNwhs3P5u"
      }
    },
    {
      "cell_type": "code",
      "source": [
        ">>> for i in range(5):\n",
        "...     if i == 3:\n",
        "...         break\n",
        "...     print(i)\n",
        "... else:\n",
        "...     print(\"for 문이 정상 종료되었습니다.\")\n",
        "..."
      ],
      "metadata": {
        "colab": {
          "base_uri": "https://localhost:8080/"
        },
        "id": "eaHtMk1C3R91",
        "outputId": "f1e36f6b-6819-4dce-d40e-8bfac50c765f"
      },
      "execution_count": 102,
      "outputs": [
        {
          "output_type": "stream",
          "name": "stdout",
          "text": [
            "0\n",
            "1\n",
            "2\n"
          ]
        }
      ]
    },
    {
      "cell_type": "markdown",
      "source": [
        "리스트의 순서(인덱스)와 값을 함께 구하고 싶을 때는 enumerate 함수를 사용하면 편리하다."
      ],
      "metadata": {
        "id": "A-woUl8G4ZWl"
      }
    },
    {
      "cell_type": "code",
      "source": [
        ">>> fruits = ['apple', 'banana', 'orange']\n",
        ">>> for i, fruit in enumerate(fruits):\n",
        "...     print(f\"{i}: {fruit}\")\n",
        "..."
      ],
      "metadata": {
        "colab": {
          "base_uri": "https://localhost:8080/"
        },
        "id": "zjNrQq-l4aSU",
        "outputId": "1c45ce60-38d2-4558-cf3e-9adf820497c4"
      },
      "execution_count": 103,
      "outputs": [
        {
          "output_type": "stream",
          "name": "stdout",
          "text": [
            "0: apple\n",
            "1: banana\n",
            "2: orange\n"
          ]
        }
      ]
    },
    {
      "cell_type": "markdown",
      "source": [
        ":enumerate는 0부터 시작하는 인덱스 번호를 자동으로 생성해준다. 시작 번호를 변경하고 싶다면 다음과 같이 사용할 수 있다."
      ],
      "metadata": {
        "id": "BsB9sbZq3Iwd"
      }
    },
    {
      "cell_type": "code",
      "source": [
        ">>> fruits = ['apple', 'banana', 'orange']\n",
        ">>> for i, fruit in enumerate(fruits, 1):  # 1부터 시작\n",
        "...     print(f\"{i}: {fruit}\")\n",
        "..."
      ],
      "metadata": {
        "colab": {
          "base_uri": "https://localhost:8080/"
        },
        "id": "mzjJXBY54gxc",
        "outputId": "a3c9a71e-bb82-41b7-e0c4-95351af15ee6"
      },
      "execution_count": 104,
      "outputs": [
        {
          "output_type": "stream",
          "name": "stdout",
          "text": [
            "1: apple\n",
            "2: banana\n",
            "3: orange\n"
          ]
        }
      ]
    },
    {
      "cell_type": "markdown",
      "source": [
        "zip 함수로 여러 리스트 함께 순회하기\n",
        "\n",
        "두 개 이상의 리스트를 동시에 순회하고 싶을 때는 zip 함수를 사용한다."
      ],
      "metadata": {
        "id": "aE3uFsVm4gfs"
      }
    },
    {
      "cell_type": "code",
      "source": [
        ">>> names = ['홍길동', '김철수', '이영희']\n",
        ">>> scores = [85, 92, 78]\n",
        ">>> for name, score in zip(names, scores):\n",
        "...     print(f\"{name}: {score}점\")\n",
        "..."
      ],
      "metadata": {
        "colab": {
          "base_uri": "https://localhost:8080/"
        },
        "id": "WjMDSQs25nS8",
        "outputId": "a16a6f58-3328-4482-fb7e-77e37de8f4b4"
      },
      "execution_count": 105,
      "outputs": [
        {
          "output_type": "stream",
          "name": "stdout",
          "text": [
            "홍길동: 85점\n",
            "김철수: 92점\n",
            "이영희: 78점\n"
          ]
        }
      ]
    },
    {
      "cell_type": "code",
      "source": [
        "\n",
        ">>> names = ['홍길동', '김철수', '이영희']\n",
        ">>> korean = [85, 92, 78]\n",
        ">>> english = [90, 88, 95]\n",
        ">>> for name, kor, eng in zip(names, korean, english):\n",
        "...     print(f\"{name}: 국어 {kor}점, 영어 {eng}점\")\n",
        "...\n",
        "#세 개 이상의 리스트도 함께 순회할 수 있다."
      ],
      "metadata": {
        "colab": {
          "base_uri": "https://localhost:8080/"
        },
        "id": "ISt2GHZ66Hjz",
        "outputId": "f8495d26-b976-4297-96d3-ed1aef1a8bcf"
      },
      "execution_count": 108,
      "outputs": [
        {
          "output_type": "stream",
          "name": "stdout",
          "text": [
            "홍길동: 국어 85점, 영어 90점\n",
            "김철수: 국어 92점, 영어 88점\n",
            "이영희: 국어 78점, 영어 95점\n"
          ]
        }
      ]
    }
  ]
}