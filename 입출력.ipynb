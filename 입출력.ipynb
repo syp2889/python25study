{
  "nbformat": 4,
  "nbformat_minor": 0,
  "metadata": {
    "colab": {
      "provenance": [],
      "authorship_tag": "ABX9TyME9cp4fzFtV+FJgvttSWXR",
      "include_colab_link": true
    },
    "kernelspec": {
      "name": "python3",
      "display_name": "Python 3"
    },
    "language_info": {
      "name": "python"
    }
  },
  "cells": [
    {
      "cell_type": "markdown",
      "metadata": {
        "id": "view-in-github",
        "colab_type": "text"
      },
      "source": [
        "<a href=\"https://colab.research.google.com/github/syp2889/python25study/blob/main/%EC%9E%85%EC%B6%9C%EB%A0%A5.ipynb\" target=\"_parent\"><img src=\"https://colab.research.google.com/assets/colab-badge.svg\" alt=\"Open In Colab\"/></a>"
      ]
    },
    {
      "cell_type": "markdown",
      "source": [
        "# ***함수***"
      ],
      "metadata": {
        "id": "wr4_2NUp6slT"
      }
    },
    {
      "cell_type": "markdown",
      "source": [
        "파이썬 함수의 구조는 다음과 같다.\n",
        "\n",
        "\n",
        "def 함수_이름(매개변수):\n",
        "\n",
        "    수행할_문장1\n",
        "    수행할_문장2\n",
        "    ..."
      ],
      "metadata": {
        "id": "IdoKcSmX6yq6"
      }
    },
    {
      "cell_type": "code",
      "source": [
        ">>> def add(a, b):\n",
        "...     return a+b\n",
        "...\n",
        ">>>"
      ],
      "metadata": {
        "id": "tas2ATrIJGan"
      },
      "execution_count": 2,
      "outputs": []
    },
    {
      "cell_type": "code",
      "source": [
        ">>> a = 3\n",
        ">>> b = 4\n",
        ">>> c = add(a, b)  # add(3, 4)의 반환값을 c에 대입\n",
        ">>> print(c)"
      ],
      "metadata": {
        "colab": {
          "base_uri": "https://localhost:8080/"
        },
        "id": "ImmJohH98zdh",
        "outputId": "854db034-2cf4-46ce-ed83-18ed6eca1773"
      },
      "execution_count": 3,
      "outputs": [
        {
          "output_type": "stream",
          "name": "stdout",
          "text": [
            "7\n"
          ]
        }
      ]
    },
    {
      "cell_type": "markdown",
      "source": [
        "매개변수(parameter)와 인수(arguments)는 혼용해서 사용하는 용어이므로 잘 기억해 두자. 매개변수는 함수에 입력으로 전달된 값을 받는 변수, 인수는 함수를 호출할 때 전달하는 입력값을 의미한다."
      ],
      "metadata": {
        "id": "I0r9MpP-9xwx"
      }
    },
    {
      "cell_type": "code",
      "source": [
        "def add(a, b):  # a, b는 매개변수\n",
        "    return a+b\n",
        "\n",
        "print(add(3, 4))  # 3, 4는 인수"
      ],
      "metadata": {
        "colab": {
          "base_uri": "https://localhost:8080/"
        },
        "id": "QGrTAZ679y5K",
        "outputId": "14b6ee33-1800-4d7c-c992-21f3b2787dcc"
      },
      "execution_count": 4,
      "outputs": [
        {
          "output_type": "stream",
          "name": "stdout",
          "text": [
            "7\n"
          ]
        }
      ]
    },
    {
      "cell_type": "code",
      "source": [
        ">>> def say():\n",
        "...     return 'Hi'\n",
        "#say라는 이름의 함수를 만들었다. 그런데 매개변수 부분을 나타내는 함수 이름 뒤의 괄호 안이 비어 있다. 이 함수는 어떻게 사용하는 것일까?"
      ],
      "metadata": {
        "id": "7Yvtq_UGBaJe"
      },
      "execution_count": 5,
      "outputs": []
    },
    {
      "cell_type": "code",
      "source": [
        ">>> a = say()\n",
        ">>> print(a)\n",
        "#위 함수를 쓰기 위해서는 say()처럼 괄호 안에 아무런 값도 넣지 않아야 한다.\n",
        "#이 함수는 입력값은 없지만, 반환값으로 \"Hi\"라는 문자열을 반환한다. 즉, a = say()처럼 작성하면 a에 \"Hi\"라는 문자열이 대입되는 것이다.\n",
        "\n"
      ],
      "metadata": {
        "colab": {
          "base_uri": "https://localhost:8080/"
        },
        "id": "T5IOkNMnBeYm",
        "outputId": "7d98e10d-bcbe-4e65-8220-449a3ccbe3e2"
      },
      "execution_count": 6,
      "outputs": [
        {
          "output_type": "stream",
          "name": "stdout",
          "text": [
            "Hi\n"
          ]
        }
      ]
    },
    {
      "cell_type": "markdown",
      "source": [
        "이처럼 입력값이 없고 반환값만 있는 함수는 다음과 같이 사용한다.\n",
        "\n",
        "반환값을_받을_변수 = 함수_이름()"
      ],
      "metadata": {
        "id": "-8HlCnaZQwkd"
      }
    },
    {
      "cell_type": "code",
      "source": [
        ">>> def add(a, b):\n",
        "...     print(\"%d, %d의 합은 %d입니다.\" % (a, b, a+b))\n",
        ">>> add(3, 4)\n"
      ],
      "metadata": {
        "colab": {
          "base_uri": "https://localhost:8080/"
        },
        "id": "fgxvvHZRBu9u",
        "outputId": "7f9eb83b-1792-485a-e05e-fcee71a477ed"
      },
      "execution_count": 12,
      "outputs": [
        {
          "output_type": "stream",
          "name": "stdout",
          "text": [
            "3, 4의 합은 7입니다.\n"
          ]
        }
      ]
    },
    {
      "cell_type": "markdown",
      "source": [
        "즉, 반환값이 없는 함수는 다음과 같이 사용한다.\n",
        "\n",
        "함수_이름(입력_인수1, 입력_인수2, ...)"
      ],
      "metadata": {
        "id": "S4jQpO63Q3W1"
      }
    },
    {
      "cell_type": "markdown",
      "source": [
        "아마도 여러분은 ‘3, 4의 합은 7입니다.’라는 문장을 출력했는데 왜 반환값이 없다는 것인지 의아하게 생각할 수도 있다. 이 부분을 초보자들이 혼란스러워하는데, print 문은 함수의 구성 요소 중 하나인 ‘수행할_문장’에 해당하는 부분일 뿐이다. 반환값은 당연히 없다. 반환값은 오직 return 명령어로만 반환받을 수 있다.\n",
        "\n",
        "이를 확인해 보자. 리턴받을 값을 a 변수에 대입하고 a 값을 출력해 보면 반환값이 있는지, 없는지 알 수 있다."
      ],
      "metadata": {
        "id": "hyp7MWjrQAWO"
      }
    },
    {
      "cell_type": "code",
      "source": [
        ">>> a = add(3, 4)\n",
        ">>> print(a)"
      ],
      "metadata": {
        "colab": {
          "base_uri": "https://localhost:8080/"
        },
        "id": "9W5VAkS8BwDG",
        "outputId": "12096df4-5322-46fc-d315-02d6784aec9f"
      },
      "execution_count": 15,
      "outputs": [
        {
          "output_type": "stream",
          "name": "stdout",
          "text": [
            "3, 4의 합은 7입니다.\n",
            "None\n"
          ]
        }
      ]
    },
    {
      "cell_type": "markdown",
      "source": [
        "입력값도, 반환값도 없는 함수 역시 존재한다. 다음 예를 살펴보자."
      ],
      "metadata": {
        "id": "ZpTIYAfeQ9-t"
      }
    },
    {
      "cell_type": "code",
      "source": [
        ">>> def say():\n",
        "...     print('Hi')"
      ],
      "metadata": {
        "id": "WmLEaFUxQ9x1"
      },
      "execution_count": 16,
      "outputs": []
    },
    {
      "cell_type": "markdown",
      "source": [
        "입력 인수를 받는 매개변수도 없고 return 문도 없으니 입력값도, 반환값도 없는 함수이다.\n",
        "\n",
        "이 함수를 사용하는 방법은 단 1가지이다."
      ],
      "metadata": {
        "id": "3C4E7DSORHDN"
      }
    },
    {
      "cell_type": "code",
      "source": [
        ">>> say()"
      ],
      "metadata": {
        "colab": {
          "base_uri": "https://localhost:8080/"
        },
        "id": "dRMN5siBRGWd",
        "outputId": "9bbc9cdd-6e71-4ec4-c659-320f3f193670"
      },
      "execution_count": 17,
      "outputs": [
        {
          "output_type": "stream",
          "name": "stdout",
          "text": [
            "Hi\n"
          ]
        }
      ]
    },
    {
      "cell_type": "markdown",
      "source": [
        "즉, 입력값도, 반환값도 없는 함수는 다음과 같이 사용한다.\n",
        "\n",
        "함수_이름()"
      ],
      "metadata": {
        "id": "SOXBjUX4RR8E"
      }
    },
    {
      "cell_type": "markdown",
      "source": [
        "함수를 호출할 때 매개변수를 지정할 수도 있다. 다음 예를 살펴보자."
      ],
      "metadata": {
        "id": "ZeAu78VPRVJM"
      }
    },
    {
      "cell_type": "code",
      "source": [
        ">>> def sub(a, b):\n",
        "...     return a - b"
      ],
      "metadata": {
        "id": "7ex1_DjPRRiM"
      },
      "execution_count": 18,
      "outputs": []
    },
    {
      "cell_type": "code",
      "source": [
        ">>> result = sub(a=7, b=3)  # a에 7, b에 3을 전달\n",
        ">>> print(result)"
      ],
      "metadata": {
        "colab": {
          "base_uri": "https://localhost:8080/"
        },
        "id": "R3fYRsHnRcFF",
        "outputId": "da9129e3-d398-449d-af48-b82de056b70d"
      },
      "execution_count": 19,
      "outputs": [
        {
          "output_type": "stream",
          "name": "stdout",
          "text": [
            "4\n"
          ]
        }
      ]
    },
    {
      "cell_type": "markdown",
      "source": [
        "입력값이 몇 개가 될지 모를 때는 어떻게 해야 할까?\n",
        "\n",
        "\n",
        "def 함수_이름(*매개변수):\n",
        "\n",
        "    수행할_문장\n",
        "    ...\n",
        "\n",
        "일반적으로 볼 수 있는 함수 형태에서 괄호 안의 매개변수 부분이 *매개변수로 바뀌었다.\n",
        "\n",
        "여러 개의 입력값을 받는 함수 만들기\n",
        "다음 예를 통해 여러 개의 입력값을 모두 더하는 함수를 직접 만들어 보자."
      ],
      "metadata": {
        "id": "5bc56x3-Rbws"
      }
    },
    {
      "cell_type": "code",
      "source": [
        ">>> def add_many(*args):\n",
        "...     result = 0\n",
        "...     for i in args:\n",
        "...         result = result + i   # *args에 입력받은 모든 값을 더한다.\n",
        "...     return result"
      ],
      "metadata": {
        "id": "77dIRf1eRyKk"
      },
      "execution_count": 24,
      "outputs": []
    },
    {
      "cell_type": "markdown",
      "source": [
        "위에서 만든 add_many 함수는 입력값이 몇 개이든 상관없다. *args처럼 매개변수 이름 앞에 *을 붙이면 입력값을 전부 모아 튜플로 만들어 주기 때문이다. 만약 add_many(1, 2, 3)처럼 이 함수를 쓰면 args는 (1, 2, 3)이 되고 add_many(1, 2, 3, 4, 5, 6, 7, 8, 9, 10)처럼 쓰면 args는 (1, 2, 3, 4, 5, 6, 7, 8, 9, 10)이 된다. 여기에서 *args는 임의로 정한 변수 이름이다. *pey, *python처럼 아무 이름이나 써도 된다.\n",
        "\n",
        "args는 인수를 뜻하는 영어 단어 arguments의 약자이며 관례적으로 자주 사용한다."
      ],
      "metadata": {
        "id": "8qYna4b1RRVl"
      }
    },
    {
      "cell_type": "code",
      "source": [
        ">>> result = add_many(1,2,3)\n",
        ">>> print(result)"
      ],
      "metadata": {
        "colab": {
          "base_uri": "https://localhost:8080/"
        },
        "id": "RFagEWG8VVgC",
        "outputId": "55413723-5ac8-4a8b-8ce4-48c8389aa0b8"
      },
      "execution_count": 25,
      "outputs": [
        {
          "output_type": "stream",
          "name": "stdout",
          "text": [
            "6\n"
          ]
        }
      ]
    },
    {
      "cell_type": "code",
      "source": [
        ">>> result = add_many(1,2,3,4,5,6,7,8,9,10)\n",
        ">>> print(result)"
      ],
      "metadata": {
        "colab": {
          "base_uri": "https://localhost:8080/"
        },
        "id": "h_rkJAyrVXDS",
        "outputId": "23c50d0f-199c-44ab-dd60-bdb4568251ea"
      },
      "execution_count": 26,
      "outputs": [
        {
          "output_type": "stream",
          "name": "stdout",
          "text": [
            "55\n"
          ]
        }
      ]
    },
    {
      "cell_type": "markdown",
      "source": [
        "매개변수 여러개 쓰는 함수"
      ],
      "metadata": {
        "id": "JW7M5cJtW-nZ"
      }
    },
    {
      "cell_type": "code",
      "source": [
        ">>> def add_mul(choice, *args):\n",
        "...     if choice == \"add\":   # 매개변수 choice에 \"add\"를 입력받았을 때\n",
        "...         result = 0\n",
        "...         for i in args:\n",
        "...             result = result + i\n",
        "...     elif choice == \"mul\":   # 매개변수 choice에 \"mul\"을 입력받았을 때\n",
        "...         result = 1\n",
        "...         for i in args:\n",
        "...             result = result * i\n",
        "...     return result"
      ],
      "metadata": {
        "id": "_2tQe21kWq8K"
      },
      "execution_count": 27,
      "outputs": []
    },
    {
      "cell_type": "code",
      "source": [
        ">>> result = add_mul('add', 1,2,3,4,5)\n",
        ">>> print(result)"
      ],
      "metadata": {
        "colab": {
          "base_uri": "https://localhost:8080/"
        },
        "id": "0oCrqop5W61x",
        "outputId": "66ecd943-1d42-4e7f-923a-59704d096463"
      },
      "execution_count": 28,
      "outputs": [
        {
          "output_type": "stream",
          "name": "stdout",
          "text": [
            "15\n"
          ]
        }
      ]
    },
    {
      "cell_type": "code",
      "source": [
        ">>> result = add_mul('mul', 1,2,3,4,5)\n",
        ">>> print(result)"
      ],
      "metadata": {
        "colab": {
          "base_uri": "https://localhost:8080/"
        },
        "id": "t6HU5PnIYMIo",
        "outputId": "0dcbe11e-298e-47de-c153-976c30dff31d"
      },
      "execution_count": 29,
      "outputs": [
        {
          "output_type": "stream",
          "name": "stdout",
          "text": [
            "120\n"
          ]
        }
      ]
    },
    {
      "cell_type": "markdown",
      "source": [
        "**키워드 매개변수, kwargs**\n",
        "\n",
        "\n",
        "이번에는 키워드 매개변수에 대해 알아보자. 키워드 매개변수는 함수 호출 시 키워드=값 형태로 전달하는 매개변수를 받을 때 사용한다. 키워드 매개변수를 사용할 때는 매개변수 앞에 별 2개(**)를 붙인다."
      ],
      "metadata": {
        "id": "yWXm6D7BYOzx"
      }
    },
    {
      "cell_type": "code",
      "source": [
        ">>> def print_kwargs(**kwargs):\n",
        "...     print(kwargs)"
      ],
      "metadata": {
        "id": "cggbgWlTYTcZ"
      },
      "execution_count": 30,
      "outputs": []
    },
    {
      "cell_type": "markdown",
      "source": [
        "**print_kwargs는 입력받은 키워드 매개변수들을 딕셔너리 형태로 출력하는 함수이다. **\n",
        "\n",
        "이제 이 함수를 다음과 같이 사용해 보자."
      ],
      "metadata": {
        "id": "uzOSBZ-9YU7R"
      }
    },
    {
      "cell_type": "code",
      "source": [
        ">>> print_kwargs(a=1)"
      ],
      "metadata": {
        "colab": {
          "base_uri": "https://localhost:8080/"
        },
        "id": "geDxg-CjYUvh",
        "outputId": "91f2cf1e-df0e-474c-8065-6044e54c4b40"
      },
      "execution_count": 31,
      "outputs": [
        {
          "output_type": "stream",
          "name": "stdout",
          "text": [
            "{'a': 1}\n"
          ]
        }
      ]
    },
    {
      "cell_type": "code",
      "source": [
        ">>> print_kwargs(name='foo', age=3)"
      ],
      "metadata": {
        "colab": {
          "base_uri": "https://localhost:8080/"
        },
        "id": "ZAGotxZtYXHp",
        "outputId": "bbdd5dfc-c10c-4da6-9c17-e444a62d0713"
      },
      "execution_count": 32,
      "outputs": [
        {
          "output_type": "stream",
          "name": "stdout",
          "text": [
            "{'name': 'foo', 'age': 3}\n"
          ]
        }
      ]
    },
    {
      "cell_type": "code",
      "source": [
        ">>> print_kwargs(name='홍길동', age=25, city='서울', job='개발자')"
      ],
      "metadata": {
        "colab": {
          "base_uri": "https://localhost:8080/"
        },
        "id": "xibqh2I4YadA",
        "outputId": "c5cb3fa4-baa6-4690-ada9-9e46247b889e"
      },
      "execution_count": 33,
      "outputs": [
        {
          "output_type": "stream",
          "name": "stdout",
          "text": [
            "{'name': '홍길동', 'age': 25, 'city': '서울', 'job': '개발자'}\n"
          ]
        }
      ]
    },
    {
      "cell_type": "code",
      "source": [
        ">>> def create_profile(**info):\n",
        "...     print(\"=== 프로필 정보 ===\")\n",
        "...     for key, value in info.items():\n",
        "...         print(f\"{key}: {value}\")\n",
        "...\n",
        ">>> create_profile(이름='김철수', 나이=30, 직업='프로그래머', 취미='독서')"
      ],
      "metadata": {
        "colab": {
          "base_uri": "https://localhost:8080/"
        },
        "id": "e9iX9-7BZD4I",
        "outputId": "b2d0a16c-7dd5-431f-947a-c44c98f1271f"
      },
      "execution_count": 34,
      "outputs": [
        {
          "output_type": "stream",
          "name": "stdout",
          "text": [
            "=== 프로필 정보 ===\n",
            "이름: 김철수\n",
            "나이: 30\n",
            "직업: 프로그래머\n",
            "취미: 독서\n"
          ]
        }
      ]
    },
    {
      "cell_type": "markdown",
      "source": [
        "일반 매개변수, 가변 매개변수(*args), 키워드 매개변수(**kwargs)를 모두 함께 사용할 수도 있다. 이때 순서는 반드시 다음과 같아야 한다."
      ],
      "metadata": {
        "id": "Hq_F_8V3aYgf"
      }
    },
    {
      "cell_type": "code",
      "source": [
        ">>> def mixed_function(name, *args, **kwargs):\n",
        "...     print(f\"이름: {name}\")\n",
        "...     print(f\"추가 인수들: {args}\")\n",
        "...     print(f\"키워드 인수들: {kwargs}\")\n",
        "...\n",
        ">>> mixed_function('홍길동', 1, 2, 3, age=25, city='서울')"
      ],
      "metadata": {
        "colab": {
          "base_uri": "https://localhost:8080/"
        },
        "id": "LkZVpEHOaYXP",
        "outputId": "e034a6ed-ed7a-4021-da4b-58481c61883b"
      },
      "execution_count": 36,
      "outputs": [
        {
          "output_type": "stream",
          "name": "stdout",
          "text": [
            "이름: 홍길동\n",
            "추가 인수들: (1, 2, 3)\n",
            "키워드 인수들: {'age': 25, 'city': '서울'}\n"
          ]
        }
      ]
    },
    {
      "cell_type": "markdown",
      "source": [
        "***함수의 반환값은 언제나 하나이다***"
      ],
      "metadata": {
        "id": "chy12NlyahEg"
      }
    },
    {
      "cell_type": "code",
      "source": [
        ">>> def add_and_mul(a,b):\n",
        "...     return a+b, a*b"
      ],
      "metadata": {
        "id": "XjA6VLaSagqf"
      },
      "execution_count": 37,
      "outputs": []
    },
    {
      "cell_type": "markdown",
      "source": [
        "add_and_mul은 2개의 입력 인수를 받아 더한 값과 곱한 값을 반환하는 함수이다.\n",
        "\n",
        "이 함수를 다음과 같이 호출하면 어떻게 될까?\n"
      ],
      "metadata": {
        "id": "-CYdthrKag7A"
      }
    },
    {
      "cell_type": "code",
      "source": [
        ">>> result = add_and_mul(3,4)"
      ],
      "metadata": {
        "id": "QcLE7PJXbDkX"
      },
      "execution_count": 40,
      "outputs": []
    },
    {
      "cell_type": "markdown",
      "source": [
        "반환값은 a+b와 a*b인데, 반환값을 받아들이는 변수는 result 하나만 쓰였으므로 오류가 발생하지 않을까? 당연한 의문이다. 하지만 오류는 발생하지 않는다. 그 이유는 함수의 반환값은 2개가 아니라 언제나 1개라는 데 있다. add_and_mul 함수의 반환값 a+b와 a*b는 튜플값 하나인 (a+b, a*b)로 리턴된다.\n",
        "\n",
        "따라서 result 변수는 다음과 같은 값을 가지게 된다."
      ],
      "metadata": {
        "id": "l-CCJUQwbFHX"
      }
    },
    {
      "cell_type": "code",
      "source": [
        "result = (7, 12)"
      ],
      "metadata": {
        "id": "621JVFQBcrNG"
      },
      "execution_count": 41,
      "outputs": []
    },
    {
      "cell_type": "markdown",
      "source": [
        "즉, 결괏값으로 (7, 12)라는 튜플 값을 가지게 되는 것이다.\n",
        "\n",
        "만약 이 하나의 튜플 값을 2개의 값으로 분리하여 받고 싶다면 함수를 다음과 같이 호출하면 된다."
      ],
      "metadata": {
        "id": "m1BPe8WectLO"
      }
    },
    {
      "cell_type": "code",
      "source": [
        ">>> result1, result2 = add_and_mul(3, 4)"
      ],
      "metadata": {
        "id": "dGnxNH1Xcui2"
      },
      "execution_count": 43,
      "outputs": []
    },
    {
      "cell_type": "markdown",
      "source": [
        "이렇게 호출하면 result1, result2 = (7, 12)가 되어 result1은 7, result2는 12가 된다."
      ],
      "metadata": {
        "id": "hL69ExP-cwVd"
      }
    },
    {
      "cell_type": "code",
      "source": [
        ">>> def add_and_mul(a,b):\n",
        "...     return a+b\n",
        "...     return a*b"
      ],
      "metadata": {
        "id": "w54RC21DdmhN"
      },
      "execution_count": 44,
      "outputs": []
    },
    {
      "cell_type": "markdown",
      "source": [
        "위와 같이 return 문을 2번 사용하면 2개의 반환값을 돌려 주지 않을까? 하지만 기대하는 결과는 나오지 않는다.\n",
        "\n",
        "그 이유는 add_and_mul 함수를 호출해 보면 알 수 있다."
      ],
      "metadata": {
        "id": "_cwecYsrdnkv"
      }
    },
    {
      "cell_type": "code",
      "source": [
        ">>> result = add_and_mul(2, 3)\n",
        ">>> print(result)"
      ],
      "metadata": {
        "colab": {
          "base_uri": "https://localhost:8080/"
        },
        "id": "d5QT59iQdprG",
        "outputId": "7b8f49ef-5e49-4f52-bc89-65dccc1d56a7"
      },
      "execution_count": 45,
      "outputs": [
        {
          "output_type": "stream",
          "name": "stdout",
          "text": [
            "5\n"
          ]
        }
      ]
    },
    {
      "cell_type": "markdown",
      "source": [
        "add_and_mul(2, 3)의 반환값은 5 하나뿐이다. 두 번째 return 문인 return a * b는 실행되지 않았다는 뜻이다.\n",
        "\n",
        " 즉, 함수는 return 문을 만나는 순간, 반환값을 반환한 다음 함수를 빠져나가게 된다."
      ],
      "metadata": {
        "id": "cCw43suWdwT9"
      }
    },
    {
      "cell_type": "markdown",
      "source": [
        "**return의 또 다른 쓰임새**\n",
        "\n",
        "특별한 상황일 때 함수를 빠져나가고 싶다면 return을 단독으로 써서 함수를 즉시 빠져나갈 수 있다. 다음 예를 살펴보자."
      ],
      "metadata": {
        "id": "J0HOsyCienwt"
      }
    },
    {
      "cell_type": "code",
      "source": [
        ">>> def say_nick(nick):\n",
        "...     if nick == \"바보\":\n",
        "...         return\n",
        "...     print(\"나의 별명은 %s 입니다.\" % nick)\n"
      ],
      "metadata": {
        "id": "1lxiZqpfepc9"
      },
      "execution_count": 46,
      "outputs": []
    },
    {
      "cell_type": "markdown",
      "source": [
        "위는 매개변수 nick으로 별명을 입력받아 출력하는 함수이다. 이 함수 역시 반환값은 없다. 이때 문자열을 출력한다는 것과 반환값이 있다는 것은 전혀 다른 말이므로 혼동하지 말자. 함수의 반환값은 오로지 return 문에 의해서만 생성된다.\n",
        "\n",
        "만약 입력값으로 '바보'라는 값이 들어오면 문자열을 출력하지 않고 함수를 즉시 빠져나간다."
      ],
      "metadata": {
        "id": "Smg1vm-WerbM"
      }
    },
    {
      "cell_type": "code",
      "source": [
        ">>> say_nick('야호')\n",
        ">>> say_nick('바보')\n",
        "#이처럼 반환값이 없는 함수에서 return으로 함수를 빠져나가는 방법은 실제 프로그래밍에서 자주 사용한다."
      ],
      "metadata": {
        "colab": {
          "base_uri": "https://localhost:8080/"
        },
        "id": "WhTPWQeDerFF",
        "outputId": "9cf5ece7-190a-4f73-90d2-407f0997db4f"
      },
      "execution_count": 49,
      "outputs": [
        {
          "output_type": "stream",
          "name": "stdout",
          "text": [
            "나의 별명은 야호 입니다.\n"
          ]
        }
      ]
    },
    {
      "cell_type": "markdown",
      "source": [
        "**매개변수에 초깃값 미리 설정하기**\n",
        "\n",
        "\n",
        "이번에는 조금 다른 형태로 함수의 인수를 전달하는 방법에 대해서 알아보자. 다음은 매개변수에 초깃값을 미리 설정해 주는 경우이다."
      ],
      "metadata": {
        "id": "PBUKGuT4ezX1"
      }
    },
    {
      "cell_type": "code",
      "source": [
        "# default1.py\n",
        "def say_myself(name, age, man=True):\n",
        "    print(\"나의 이름은 %s 입니다.\" % name)\n",
        "    print(\"나이는 %d살입니다.\" % age)\n",
        "    if man:\n",
        "        print(\"남자입니다.\")\n",
        "    else:\n",
        "        print(\"여자입니다.\")\n"
      ],
      "metadata": {
        "id": "_zcOuPc5e2JU"
      },
      "execution_count": 50,
      "outputs": []
    },
    {
      "cell_type": "markdown",
      "source": [
        "다음처럼 2가지 방법으로 사용할 수 있다.\n",
        "\n",
        "say_myself(\"박응용\", 27)\n",
        "\n",
        "say_myself(\"박응용\", 27, True)"
      ],
      "metadata": {
        "id": "ruuX3ctRe9Ic"
      }
    },
    {
      "cell_type": "code",
      "source": [
        "say_myself(\"박응선\", 27, False)"
      ],
      "metadata": {
        "colab": {
          "base_uri": "https://localhost:8080/"
        },
        "id": "mBfdHqRhfCoc",
        "outputId": "6f8c13d1-6a51-43d5-bad7-ae1b4518cd52"
      },
      "execution_count": 51,
      "outputs": [
        {
          "output_type": "stream",
          "name": "stdout",
          "text": [
            "나의 이름은 박응선 입니다.\n",
            "나이는 27살입니다.\n",
            "여자입니다.\n"
          ]
        }
      ]
    },
    {
      "cell_type": "code",
      "source": [
        "# default2.py\n",
        "def say_myself(name, man=True, age): #두번째에 매개변수 초기값 설정을 할 경우\n",
        "    print(\"나의 이름은 %s 입니다.\" % name)\n",
        "    print(\"나이는 %d살입니다.\" % age)\n",
        "    if man:\n",
        "        print(\"남자입니다.\")\n",
        "    else:\n",
        "        print(\"여자입니다.\")"
      ],
      "metadata": {
        "id": "id9krwIkfL9k"
      },
      "execution_count": null,
      "outputs": []
    },
    {
      "cell_type": "code",
      "source": [
        "say_myself(\"박응용\", 27)\n",
        "#이렇게 쓰면 오류가 날 수 있어여. 27을 두번째에 넣을지 세번째에 넣을지 헷갈리니까요\n",
        "#초기화하고 싶은 매개변수는 항상 뒤쪽에 놓아야 한다는 것을 잊지 말자.\n",
        "#근데 잘나옴 뭐임 ㅋ"
      ],
      "metadata": {
        "colab": {
          "base_uri": "https://localhost:8080/"
        },
        "id": "po0F0HPRfQ4s",
        "outputId": "fe15b4f8-b8e3-4daa-82d7-cf94a03d87b4"
      },
      "execution_count": 53,
      "outputs": [
        {
          "output_type": "stream",
          "name": "stdout",
          "text": [
            "나의 이름은 박응용 입니다.\n",
            "나이는 27살입니다.\n",
            "남자입니다.\n"
          ]
        }
      ]
    },
    {
      "cell_type": "markdown",
      "source": [
        "**함수 안에서 선언한 변수의 효력 범위**\n",
        "\n",
        "함수 안에서 사용할 변수의 이름을 함수 밖에서도 동일하게 사용한다면 어떻게 될까? 이런 궁금증이 생겼던 독자라면 이번에 확실하게 답을 찾을 수 있을 것이다.\n",
        "\n",
        "다음 예를 살펴보자."
      ],
      "metadata": {
        "id": "I089XpMKffek"
      }
    },
    {
      "cell_type": "code",
      "source": [
        "# vartest.py\n",
        "a = 1\n",
        "def vartest(a):\n",
        "    a = a +1\n",
        "\n",
        "vartest(a)\n",
        "print(a)\n"
      ],
      "metadata": {
        "colab": {
          "base_uri": "https://localhost:8080/"
        },
        "id": "zaP8UHJqfil8",
        "outputId": "f92d6b2a-3c78-49d3-fc20-99877a4e5e4f"
      },
      "execution_count": 54,
      "outputs": [
        {
          "output_type": "stream",
          "name": "stdout",
          "text": [
            "1\n"
          ]
        }
      ]
    }
  ]
}